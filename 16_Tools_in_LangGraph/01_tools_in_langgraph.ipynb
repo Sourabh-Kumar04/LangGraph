{
 "cells": [
  {
   "cell_type": "code",
   "execution_count": 31,
   "id": "6b8d0c1e",
   "metadata": {},
   "outputs": [],
   "source": [
    "from langgraph.graph import StateGraph, START, END\n",
    "from typing import TypedDict, Annotated\n",
    "from langchain_core.messages import BaseMessage, HumanMessage\n",
    "from langchain_huggingface import HuggingFaceEndpoint, ChatHuggingFace\n",
    "from langgraph.graph.message import add_messages\n",
    "from dotenv import load_dotenv\n",
    "\n",
    "from langgraph.prebuilt import ToolNode, tools_condition\n",
    "from langchain_community.tools import DuckDuckGoSearchRun\n",
    "from langchain_core.tools import tool\n",
    "\n",
    "import os\n",
    "import requests\n",
    "import random"
   ]
  },
  {
   "cell_type": "code",
   "execution_count": null,
   "metadata": {},
   "outputs": [],
   "source": [
    "load_dotenv()\n",
    "\n",
    "os.environ['LANGCHAIN_PROJECT'] = 'RasoTest'"
   ]
  },
  {
   "cell_type": "code",
   "execution_count": 33,
   "id": "a4a425f4",
   "metadata": {},
   "outputs": [],
   "source": [
    "llm = HuggingFaceEndpoint(\n",
    "    repo_id=\"openai/gpt-oss-20b\",  # HF model\n",
    "    task=\"text-generation\",\n",
    ")\n",
    "\n",
    "llm = ChatHuggingFace(llm=llm)"
   ]
  },
  {
   "cell_type": "code",
   "execution_count": 34,
   "metadata": {},
   "outputs": [],
   "source": [
    "# Tools \n",
    "search_tool = DuckDuckGoSearchRun(region=\"us-en\")\n",
    "\n",
    "\n",
    "@tool\n",
    "def calculator(first_num: float, second_num: float, operation: str) -> dict:\n",
    "    \"\"\"\n",
    "    Perform a basic arithmetic operation on two numbers.\n",
    "    Supported operation: add, sub, mul, div\n",
    "    \"\"\"\n",
    "    try:\n",
    "        if operation == \"add\":\n",
    "            result = first_num + second_num\n",
    "        elif operation == \"sub\":\n",
    "            result = first_num - second_num\n",
    "        elif operation == \"mul\":\n",
    "            result = first_num * second_num\n",
    "        elif operation == \"div\":\n",
    "            if second_num == 0:\n",
    "                return {\"error\": \"Division by zero is not allowed\"}\n",
    "            result = first_num / second_num\n",
    "        else:\n",
    "            return {\"error\": f\"Unsupported operation '{operation}'\"}\n",
    "        \n",
    "        return {\"first_num\": first_num, \"second_num\": second_num, \"operation\": operation, \"result\": result}\n",
    "    \n",
    "    except Exception as e:\n",
    "        return {\"error\": str(e)}\n",
    "    \n",
    "\n",
    "@tool\n",
    "def get_stock_price(symbol: str)-> dict:\n",
    "    \"\"\"\n",
    "    Fetch latest stock price for agiven symbol (e.g. 'AAPL', 'TSLA')\n",
    "    using Alpha Vantage with API key in URL.\n",
    "    \"\"\"\n",
    "    url = f'https://www.alphavantage.co/query?function=GLOBAL_QUOTE&symbol={symbol}&apikey=47M1Y00C8TAKM5XZ'\n",
    "    r = requests.get(url)\n",
    "    return  r.json()\n"
   ]
  },
  {
   "cell_type": "code",
   "execution_count": 35,
   "metadata": {},
   "outputs": [],
   "source": [
    "# make tool list\n",
    "tools = [get_stock_price, search_tool, calculator]\n",
    "\n",
    "# make the llm tool_aware\n",
    "llm_with_tools = llm.bind_tools(tools)"
   ]
  },
  {
   "cell_type": "code",
   "execution_count": 36,
   "id": "eae869f6",
   "metadata": {},
   "outputs": [],
   "source": [
    "# State\n",
    "class ChatState(TypedDict):\n",
    "    messages : Annotated[list[BaseMessage], add_messages]"
   ]
  },
  {
   "cell_type": "code",
   "execution_count": 37,
   "id": "a82f5890",
   "metadata": {},
   "outputs": [],
   "source": [
    "# graph nodes\n",
    "def chat_node(state: ChatState):\n",
    "    \"\"\"LLM node that may answer or request a tool call.\"\"\"\n",
    "    message = state['messages']\n",
    "    response = llm_with_tools.invoke(message)\n",
    "    return {\"messages\": [response]}\n",
    "\n",
    "tool_node = ToolNode(tools)  # Executes tool calls"
   ]
  },
  {
   "cell_type": "code",
   "execution_count": 38,
   "id": "e2420670",
   "metadata": {},
   "outputs": [
    {
     "data": {
      "text/plain": [
       "<langgraph.graph.state.StateGraph at 0x71fcb0e01e20>"
      ]
     },
     "execution_count": 38,
     "metadata": {},
     "output_type": "execute_result"
    }
   ],
   "source": [
    "# graph structure\n",
    "graph = StateGraph(ChatState)\n",
    "\n",
    "graph.add_node('chat_node', chat_node)\n",
    "graph.add_node('tools', tool_node)\n",
    "\n",
    "graph.add_edge(START, \"chat_node\")\n",
    "graph.add_conditional_edges(\"chat_node\", tools_condition)\n",
    "graph.add_edge(\"tools\", \"chat_node\")   "
   ]
  },
  {
   "cell_type": "code",
   "execution_count": 46,
   "id": "ed34ff76",
   "metadata": {},
   "outputs": [
    {
     "name": "stdout",
     "output_type": "stream",
     "text": [
      "---\n",
      "config:\n",
      "  flowchart:\n",
      "    curve: linear\n",
      "---\n",
      "graph TD;\n",
      "\t__start__([<p>__start__</p>]):::first\n",
      "\tchat_node(chat_node)\n",
      "\ttools(tools)\n",
      "\t__end__([<p>__end__</p>]):::last\n",
      "\t__start__ --> chat_node;\n",
      "\tchat_node -.-> __end__;\n",
      "\tchat_node -.-> tools;\n",
      "\ttools --> chat_node;\n",
      "\tclassDef default fill:#f2f0ff,line-height:1.2\n",
      "\tclassDef first fill-opacity:0\n",
      "\tclassDef last fill:#bfb6fc\n",
      "\n"
     ]
    }
   ],
   "source": [
    "chatbot = graph.compile()\n",
    "print(chatbot.get_graph().draw_mermaid()) \n",
    "\n",
    "# chatbot"
   ]
  },
  {
   "cell_type": "code",
   "execution_count": 40,
   "id": "873db148",
   "metadata": {},
   "outputs": [],
   "source": [
    "# llm.invoke(\"HI\")"
   ]
  },
  {
   "cell_type": "code",
   "execution_count": 41,
   "id": "82b7747f",
   "metadata": {},
   "outputs": [
    {
     "name": "stdout",
     "output_type": "stream",
     "text": [
      "Hello! How can I assist you today?\n"
     ]
    }
   ],
   "source": [
    "# regular chat\n",
    "out = chatbot.invoke({'messages': [HumanMessage(content=\"Hello!\")]})\n",
    "print(out['messages'][-1].content)"
   ]
  },
  {
   "cell_type": "code",
   "execution_count": 42,
   "id": "2bde966b",
   "metadata": {},
   "outputs": [
    {
     "name": "stdout",
     "output_type": "stream",
     "text": [
      "2 × 3 = **6**\n"
     ]
    }
   ],
   "source": [
    "# Chat requiring tool\n",
    "out = chatbot.invoke({'messages': [HumanMessage(content=\"What is 2x3\")]})\n",
    "print(out['messages'][-1].content)"
   ]
  },
  {
   "cell_type": "code",
   "execution_count": 43,
   "id": "6a8e9c87",
   "metadata": {},
   "outputs": [
    {
     "name": "stdout",
     "output_type": "stream",
     "text": [
      "The most recent price for NVIDIA (ticker **NVDA**) is **$178.19** per share (as of the latest trading day, 2025‑09‑26).\n"
     ]
    }
   ],
   "source": [
    "# Chat requiring tool\n",
    "out = chatbot.invoke({'messages': [HumanMessage(content=\"What is the stock price of Nvidia\")]})\n",
    "print(out['messages'][-1].content)"
   ]
  },
  {
   "cell_type": "code",
   "execution_count": 44,
   "id": "bf25eb26",
   "metadata": {},
   "outputs": [
    {
     "name": "stdout",
     "output_type": "stream",
     "text": [
      "**Nvidia (NVDA)**  \n",
      "- Current price (latest close): **$178.19 USD** per share  \n",
      "- Cost for 50 shares:  \n",
      "\n",
      "\\[\n",
      "50 \\text{ shares} \\times \\$178.19 = \\$8{,}909.50\n",
      "\\]\n",
      "\n",
      "So you would need approximately **$8,909.50** to purchase 50 shares of NVDA at the current price.\n"
     ]
    }
   ],
   "source": [
    "# Chat requiring tool\n",
    "out = chatbot.invoke({'messages': [HumanMessage(content=\"What is the stock price of Nvidia. How much would it cost to purchase 50 shares\")]})\n",
    "print(out['messages'][-1].content)"
   ]
  },
  {
   "cell_type": "code",
   "execution_count": null,
   "id": "726c26d5",
   "metadata": {},
   "outputs": [],
   "source": []
  }
 ],
 "metadata": {
  "kernelspec": {
   "display_name": "generative-ai-by-campusx",
   "language": "python",
   "name": "python3"
  },
  "language_info": {
   "codemirror_mode": {
    "name": "ipython",
    "version": 3
   },
   "file_extension": ".py",
   "mimetype": "text/x-python",
   "name": "python",
   "nbconvert_exporter": "python",
   "pygments_lexer": "ipython3",
   "version": "3.12.11"
  }
 },
 "nbformat": 4,
 "nbformat_minor": 5
}
