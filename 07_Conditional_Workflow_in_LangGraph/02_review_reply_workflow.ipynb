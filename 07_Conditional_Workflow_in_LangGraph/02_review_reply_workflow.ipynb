{
 "cells": [
  {
   "cell_type": "code",
   "execution_count": null,
   "id": "1a7f62b6",
   "metadata": {},
   "outputs": [
    {
     "data": {
      "text/plain": [
       "True"
      ]
     },
     "execution_count": 58,
     "metadata": {},
     "output_type": "execute_result"
    }
   ],
   "source": [
    "from langgraph.graph import StateGraph, START, END\n",
    "from langchain_huggingface import HuggingFaceEndpoint, ChatHuggingFace\n",
    "from typing import TypedDict, Literal\n",
    "from dotenv import load_dotenv\n",
    "from pydantic import BaseModel, Field\n",
    "import os\n",
    "\n",
    "load_dotenv()"
   ]
  },
  {
   "cell_type": "code",
   "execution_count": null,
   "metadata": {},
   "outputs": [],
   "source": [
    "llm = HuggingFaceEndpoint(\n",
    "    repo_id=\"Qwen/Qwen3-Next-80B-A3B-Instruct\",\n",
    "    task=\"text-generation\",\n",
    "    huggingfacehub_api_token=os.getenv(\"HUGGINGFACEHUB_API_TOKEN\")\n",
    ")\n",
    "\n",
    "model = ChatHuggingFace(llm=llm)"
   ]
  },
  {
   "cell_type": "code",
   "execution_count": 60,
   "id": "7c40e773",
   "metadata": {},
   "outputs": [],
   "source": [
    "class SentimentSchema(BaseModel):\n",
    "    \n",
    "    sentiment: Literal[\"postive\", \"negative\"] = Field(description=\"Sentiment of the review\")\n"
   ]
  },
  {
   "cell_type": "code",
   "execution_count": 61,
   "id": "ab0a0b56",
   "metadata": {},
   "outputs": [],
   "source": [
    "class DiagnosisSchema(BaseModel):\n",
    "    \n",
    "    issue_type: Literal[\"UX\", \"Performance\", \"Bug\", \"Support\", \"Other\"] = Field(description=\"The category of issue mentioned in the review\")\n",
    "    tone: Literal[\"amgry\", \"frustated\", \"disappointed\", \"calm\"] = Field(description=\" The emotions tone expressed by the user\")\n",
    "    urgency: Literal[\"low\", \"medium\", \"high\"] = Field(description=\"How urgent or critical the issue appears to be\")\n"
   ]
  },
  {
   "cell_type": "code",
   "execution_count": 62,
   "id": "6ee78a19",
   "metadata": {},
   "outputs": [],
   "source": [
    "# Convert to JSON schema (Pydantic v2)\n",
    "schema = SentimentSchema.model_json_schema()\n",
    "structured_model = model.with_structured_output(schema)"
   ]
  },
  {
   "cell_type": "code",
   "execution_count": 63,
   "id": "b79b28a0",
   "metadata": {},
   "outputs": [],
   "source": [
    "# Convert to JSON schema (Pydantic v2)\n",
    "schema_2 = DiagnosisSchema.model_json_schema()\n",
    "structured_model_2 = model.with_structured_output(schema_2)"
   ]
  },
  {
   "cell_type": "code",
   "execution_count": 64,
   "id": "12791664",
   "metadata": {},
   "outputs": [],
   "source": [
    "prompt = (\"What is the sentiment of the following review: The software of Apple is bad\")"
   ]
  },
  {
   "cell_type": "code",
   "execution_count": 65,
   "metadata": {},
   "outputs": [
    {
     "data": {
      "text/plain": [
       "{'sentiment': 'negative'}"
      ]
     },
     "execution_count": 65,
     "metadata": {},
     "output_type": "execute_result"
    }
   ],
   "source": [
    "structured_model.invoke(prompt)"
   ]
  },
  {
   "cell_type": "code",
   "execution_count": 66,
   "id": "e3aa2123",
   "metadata": {},
   "outputs": [],
   "source": [
    "class ReviewState(TypedDict):\n",
    "\n",
    "    review: str\n",
    "    sentiment: Literal[\"positive\", \"negative\"]\n",
    "    diagnosis: dict\n",
    "    response: str"
   ]
  },
  {
   "cell_type": "code",
   "execution_count": null,
   "id": "b78e2cf6",
   "metadata": {},
   "outputs": [],
   "source": [
    "def find_sentiment(state: ReviewState):\n",
    "    prompt = f\"For the folowing review find out the sentiment \\n{state['review']}\"\n",
    "    sentiment = structured_model.invoke(prompt)\n",
    "    return {'sentiment': sentiment}\n",
    "\n",
    "def check_sentiment(state: ReviewState) -> Literal[\"positive_response\", \"run_diagnosis\"]:\n",
    "    if state['sentiment'] == \"positive\":\n",
    "        return \"positive_response\"\n",
    "    else:\n",
    "        return \"run_diagnosis\"\n",
    "\n",
    "def positive_response(state: ReviewState):\n",
    "    prompt = f\"\"\"\n",
    "    Write a warm thank you message in response to the review: \\n\n",
    "    {state['review']} \\n\n",
    "    Also, kindly ask the user to leave feedback on our website.\n",
    "    \"\"\"\n",
    "    response = model.invoke(prompt).content\n",
    "    return {'response': response}\n",
    "\n",
    "def run_diagnosis(state: ReviewState):\n",
    "    prompt = f\"\"\"\n",
    "    Diagnosis the negative review: \\n\\n\n",
    "    '{state['review']}' \\n\\n\n",
    "    Return issue_type, tone, and urgency\n",
    "    \"\"\"\n",
    "    response = structured_model_2.invoke(prompt)\n",
    "    return {'diagnosis': response}\n",
    "\n",
    "def neagtive_response(state: ReviewState):\n",
    "    diagnosis = state['diagnosis']\n",
    "    prompt = f\"\"\"\n",
    "    You are a support assistant.\n",
    "    The user had a '{diagnosis['issue_type']}' issue, sounded '{diagnosis['tone']}', and marked urgency as '{diagnosis['urgency']}'.\n",
    "    Write an empathetic, helpful resolution message.\n",
    "    \"\"\"\n",
    "    response = model.invoke(prompt).content\n",
    "    return {'response': response}\n",
    "    "
   ]
  },
  {
   "cell_type": "code",
   "execution_count": 94,
   "metadata": {},
   "outputs": [],
   "source": [
    "graph = StateGraph(ReviewState)\n",
    "\n",
    "# node\n",
    "graph.add_node('find_sentiment', find_sentiment)\n",
    "graph.add_node('positive_response', positive_response)\n",
    "graph.add_node('run_diagnosis', run_diagnosis)\n",
    "graph.add_node('neagtive_response', neagtive_response)\n",
    "\n",
    "# edge \n",
    "graph.add_edge(START, 'find_sentiment')\n",
    "\n",
    "graph.add_conditional_edges('find_sentiment', check_sentiment)\n",
    "\n",
    "graph.add_edge('positive_response', END)\n",
    "\n",
    "graph.add_edge('run_diagnosis', 'neagtive_response')\n",
    "graph.add_edge('neagtive_response', END)\n",
    "\n",
    "# compile\n",
    "workflow = graph.compile()"
   ]
  },
  {
   "cell_type": "code",
   "execution_count": 95,
   "id": "7eaee7e1",
   "metadata": {},
   "outputs": [
    {
     "data": {
      "image/png": "[encoded data removed]",
      "text/plain": [
       "<langgraph.graph.state.CompiledStateGraph object at 0x7b8aef4033e0>"
      ]
     },
     "execution_count": 95,
     "metadata": {},
     "output_type": "execute_result"
    }
   ],
   "source": [
    "workflow"
   ]
  },
  {
   "cell_type": "code",
   "execution_count": 96,
   "id": "9d18c7d5",
   "metadata": {},
   "outputs": [
    {
     "data": {
      "text/plain": [
       "{'review': 'The product is very good',\n",
       " 'sentiment': {'sentiment': 'postive'},\n",
       " 'diagnosis': {'issue_type': 'Other', 'tone': 'calm', 'urgency': 'low'},\n",
       " 'response': 'Thank you for reaching out—and thank you for taking the time to share your concern, even though it may feel like a small matter. I truly appreciate your calm and thoughtful approach.\\n\\nI’m here to help, no matter how big or small the issue may seem. Please feel free to share more details about what you’re experiencing, and I’ll do my best to guide you through it step by step. Your satisfaction matters to us, and I’m committed to making this right for you—at your pace and on your terms.\\n\\nLooking forward to your next message. You’re not alone in this. 💙'}"
      ]
     },
     "execution_count": 96,
     "metadata": {},
     "output_type": "execute_result"
    }
   ],
   "source": [
    "# executation\n",
    "initial_state = {\n",
    "    \"review\": \"The product is very good\"\n",
    "}\n",
    "\n",
    "workflow.invoke(initial_state)"
   ]
  }
 ],
 "metadata": {
  "kernelspec": {
   "display_name": "generative-ai-by-campusx",
   "language": "python",
   "name": "python3"
  },
  "language_info": {
   "codemirror_mode": {
    "name": "ipython",
    "version": 3
   },
   "file_extension": ".py",
   "mimetype": "text/x-python",
   "name": "python",
   "nbconvert_exporter": "python",
   "pygments_lexer": "ipython3",
   "version": "3.12.11"
  }
 },
 "nbformat": 4,
 "nbformat_minor": 5
}
