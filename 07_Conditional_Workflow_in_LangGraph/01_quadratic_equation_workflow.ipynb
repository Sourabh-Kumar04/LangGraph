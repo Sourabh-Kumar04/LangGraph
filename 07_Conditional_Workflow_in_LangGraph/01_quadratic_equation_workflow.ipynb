{
 "cells": [
  {
   "cell_type": "code",
   "execution_count": 31,
   "id": "879c9d74",
   "metadata": {},
   "outputs": [],
   "source": [
    "from langgraph.graph import StateGraph, START, END\n",
    "from typing import TypedDict, Literal"
   ]
  },
  {
   "cell_type": "code",
   "execution_count": 32,
   "id": "5c2c5ff8",
   "metadata": {},
   "outputs": [],
   "source": [
    "class QuadraticState(TypedDict):\n",
    "\n",
    "    a: int\n",
    "    b: int\n",
    "    c: int\n",
    "\n",
    "    equation: str\n",
    "    discriment: float\n",
    "    result: str"
   ]
  },
  {
   "cell_type": "code",
   "execution_count": 39,
   "id": "3e350d32",
   "metadata": {},
   "outputs": [],
   "source": [
    "def show_equation(state: QuadraticState):\n",
    "    equation = f\"{state['a']}x^2 + {state['b']}x + {state['c']}\"\n",
    "    return {'equation': equation}\n",
    "\n",
    "def calculate_discriment(state: QuadraticState):\n",
    "    discriment = state['b']**2 - (4*state['a']*state['c'])\n",
    "    return {'discriment': discriment}\n",
    "\n",
    "def real_roots(state: QuadraticState):\n",
    "    root1 = (-state['b'] + state['discriment']**0.5)/(2*state['a'])\n",
    "    root2 = (-state['b'] - state['discriment']**0.5)/(2*state['a'])\n",
    "    result = f\"The roots are {root1} and {root2}\"\n",
    "    return {'result': result}\n",
    "\n",
    "def repeated_roots(state: QuadraticState):\n",
    "    root = (-state['b'])/(2*state['a'])\n",
    "    result = f\"Equal roots are {root}\"\n",
    "    return {'result': result}\n",
    "\n",
    "def no_real_roots(state: QuadraticState):\n",
    "    result = f\"No real roots\"\n",
    "    return {'result': result}\n",
    "\n",
    "def check_condition(state: QuadraticState) -> Literal[\"real_roots\", \"repeated_roots\", \"no_real_roots\"]:\n",
    "    if state['discriment'] > 0:\n",
    "        return \"real_roots\"\n",
    "    elif state['discriment'] == 0:\n",
    "        return \"repeated_roots\"\n",
    "    else: \n",
    "        return \"no_real_roots\"\n"
   ]
  },
  {
   "cell_type": "code",
   "execution_count": 40,
   "id": "256b77ca",
   "metadata": {},
   "outputs": [],
   "source": [
    "graph = StateGraph(QuadraticState)\n",
    "\n",
    "# nodes\n",
    "graph.add_node('show_equation', show_equation)\n",
    "graph.add_node('calculate_discriment', calculate_discriment)\n",
    "graph.add_node('real_roots', real_roots)\n",
    "graph.add_node('repeated_roots', repeated_roots)\n",
    "graph.add_node('no_real_roots', no_real_roots)\n",
    "\n",
    "\n",
    "# edge\n",
    "graph.add_edge(START, 'show_equation')\n",
    "graph.add_edge('show_equation', 'calculate_discriment')\n",
    "\n",
    "graph.add_conditional_edges('calculate_discriment', check_condition)\n",
    "\n",
    "graph.add_edge(\"real_roots\", END)\n",
    "graph.add_edge(\"repeated_roots\", END)\n",
    "graph.add_edge(\"no_real_roots\", END)\n",
    "\n",
    "workflow = graph.compile()"
   ]
  },
  {
   "cell_type": "code",
   "execution_count": 42,
   "id": "c3047cd0",
   "metadata": {},
   "outputs": [
    {
     "data": {
      "image/png": "[encoded data removed]",
      "text/plain": [
       "<IPython.core.display.Image object>"
      ]
     },
     "execution_count": 42,
     "metadata": {},
     "output_type": "execute_result"
    }
   ],
   "source": [
    "from IPython.display import Image\n",
    "Image(workflow.get_graph().draw_mermaid_png())"
   ]
  },
  {
   "cell_type": "code",
   "execution_count": 41,
   "metadata": {},
   "outputs": [
    {
     "data": {
      "text/plain": [
       "{'a': 2,\n",
       " 'b': 4,\n",
       " 'c': 2,\n",
       " 'equation': '2x^2 + 4x + 2',\n",
       " 'discriment': 0,\n",
       " 'result': 'Equal roots are -1.0'}"
      ]
     },
     "execution_count": 41,
     "metadata": {},
     "output_type": "execute_result"
    }
   ],
   "source": [
    "# Execute\n",
    "initial_state = {\n",
    "    'a': 2,\n",
    "    'b': 4,\n",
    "    'c': 2\n",
    "}\n",
    "\n",
    "workflow.invoke(initial_state)\n"
   ]
  },
  {
   "cell_type": "code",
   "execution_count": null,
   "metadata": {},
   "outputs": [],
   "source": []
  },
  {
   "cell_type": "code",
   "execution_count": null,
   "metadata": {},
   "outputs": [],
   "source": []
  },
  {
   "cell_type": "code",
   "execution_count": null,
   "metadata": {},
   "outputs": [],
   "source": []
  }
 ],
 "metadata": {
  "kernelspec": {
   "display_name": "generative-ai-by-campusx",
   "language": "python",
   "name": "python3"
  },
  "language_info": {
   "codemirror_mode": {
    "name": "ipython",
    "version": 3
   },
   "file_extension": ".py",
   "mimetype": "text/x-python",
   "name": "python",
   "nbconvert_exporter": "python",
   "pygments_lexer": "ipython3",
   "version": "3.12.11"
  }
 },
 "nbformat": 4,
 "nbformat_minor": 5
}
