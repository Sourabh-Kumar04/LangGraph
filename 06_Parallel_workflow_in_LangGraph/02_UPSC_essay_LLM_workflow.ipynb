{
 "cells": [
  {
   "cell_type": "code",
   "execution_count": 11,
   "id": "830e48aa",
   "metadata": {},
   "outputs": [],
   "source": [
    "from langgraph.graph import StateGraph, START, END\n",
    "from langchain_huggingface import HuggingFaceEndpoint, ChatHuggingFace\n",
    "from typing import TypedDict, Annotated\n",
    "from pydantic import Field, BaseModel\n",
    "import operator\n",
    "from dotenv import load_dotenv\n",
    "import os\n",
    "\n",
    "load_dotenv()\n",
    "\n",
    "# Get API key from environment variable\n",
    "hf_api_key = os.getenv(\"HUGGINGFACEHUB_API_TOKEN\")"
   ]
  },
  {
   "cell_type": "code",
   "execution_count": 12,
   "id": "e5da3a73",
   "metadata": {},
   "outputs": [],
   "source": [
    "# Schema\n",
    "class EvaluationSchema(BaseModel):\n",
    "\n",
    "    feedback: str = Field(description=\"Detailed feedback for the essay\")\n",
    "    score: int = Field(description=\"Score out of 10\", ge=0, le=10)\n"
   ]
  },
  {
   "cell_type": "code",
   "execution_count": 13,
   "id": "bf0615d7",
   "metadata": {},
   "outputs": [],
   "source": [
    "# Convert to JSON schema (Pydantic v2)\n",
    "schema = EvaluationSchema.model_json_schema()"
   ]
  },
  {
   "cell_type": "code",
   "execution_count": null,
   "id": "e5219325",
   "metadata": {},
   "outputs": [],
   "source": [
    "# Structured Output Model\n",
    "llm = HuggingFaceEndpoint(\n",
    "    repo_id=\"Qwen/Qwen3-Next-80B-A3B-Instruct\",\n",
    "    # repo_id=\"tiiuae/falcon-7b-instruct\",\n",
    "    task=\"task-generation\",\n",
    "    # huggingfacehub_api_token=hf_api_key\n",
    "    huggingfacehub_api_token=os.getenv(\"HUGGINGFACEHUB_API_TOKEN\")\n",
    ")\n",
    "\n",
    "model = ChatHuggingFace(llm=llm)\n",
    "\n",
    "# import os\n",
    "# from dotenv import load_dotenv\n",
    "# from langchain_google_genai import ChatGoogleGenerativeAI\n",
    "\n",
    "# load_dotenv()\n",
    "\n",
    "# # Add to .env: GOOGLE_API_KEY=your-gemini-key\n",
    "# model = ChatGoogleGenerativeAI(\n",
    "#     model=\"gemini-1.5-flash\",\n",
    "#     google_api_key=os.getenv(\"GOOGLE_API_KEY\")\n",
    "# )\n",
    "\n",
    "# structured_model = model.with_structured_output(schema)\n"
   ]
  },
  {
   "cell_type": "code",
   "execution_count": 15,
   "id": "20a223f0",
   "metadata": {},
   "outputs": [],
   "source": [
    "structured_model = model.with_structured_output(schema)"
   ]
  },
  {
   "cell_type": "code",
   "execution_count": 16,
   "id": "3bf364e6",
   "metadata": {},
   "outputs": [],
   "source": [
    "essay = \"\"\"\n",
    "# 🌟 AI and Its Future in India\n",
    "\n",
    "## 📌 Current Landscape\n",
    "\n",
    "* **Rapid Growth**: India is among the **top 5 countries** in AI research publications.\n",
    "* **Government Push**: Initiatives like **Digital India, National AI Strategy (NITI Aayog), and IndiaAI Mission** aim to build AI as a core pillar of development.\n",
    "* **Startups & Industry**: Over **5,000+ AI startups** in India, focusing on healthtech, fintech, edtech, and agritech.\n",
    "* **Skilled Workforce**: India produces the **largest pool of STEM graduates** annually, making it a hub for AI talent.\n",
    "\n",
    "---\n",
    "\n",
    "## 🔑 Key Application Areas\n",
    "\n",
    "1. **Healthcare 🏥**\n",
    "\n",
    "   * AI in medical imaging, disease prediction, and telemedicine.\n",
    "   * Affordable AI-driven solutions for rural healthcare.\n",
    "\n",
    "2. **Agriculture 🌾**\n",
    "\n",
    "   * Precision farming with drones & AI sensors.\n",
    "   * Predictive analytics for weather & crop yield.\n",
    "   * Reducing supply chain inefficiencies.\n",
    "\n",
    "3. **Education 🎓**\n",
    "\n",
    "   * Personalized learning platforms with AI tutors.\n",
    "   * Local-language learning tools powered by NLP.\n",
    "   * Bridging urban–rural education gaps.\n",
    "\n",
    "4. **Finance & Banking 💰**\n",
    "\n",
    "   * Fraud detection & risk management.\n",
    "   * AI-driven credit scoring for underserved communities.\n",
    "   * Chatbots for customer support in regional languages.\n",
    "\n",
    "5. **Governance & Smart Cities 🏙️**\n",
    "\n",
    "   * Traffic management with AI vision systems.\n",
    "   * Digital governance and citizen services.\n",
    "   * Disaster response and resource optimization.\n",
    "\n",
    "---\n",
    "\n",
    "## 🚀 Opportunities Ahead\n",
    "\n",
    "* **Demographic Advantage**: Young, tech-savvy population ready to adopt AI.\n",
    "* **Data Wealth**: India generates massive datasets — essential for training AI systems.\n",
    "* **Local Language AI**: A huge opportunity lies in **developing AI for Indian languages** (22 official + 100+ spoken).\n",
    "* **Global AI Hub Potential**: India can become an outsourcing + innovation hub for AI solutions like it did for IT.\n",
    "\n",
    "---\n",
    "\n",
    "## ⚠️ Challenges to Overcome\n",
    "\n",
    "* **Data Privacy & Security**: Need stronger AI governance and data protection laws.\n",
    "* **Skill Gap**: Despite talent, advanced AI expertise (like deep learning, AGI research) is limited.\n",
    "* **Infrastructure**: Limited GPU/data center capacity compared to the US/China.\n",
    "* **Ethical Concerns**: Job displacement, bias in algorithms, and misuse of AI.\n",
    "\n",
    "---\n",
    "\n",
    "## 🌈 The Future Vision (Next 10–20 years)\n",
    "\n",
    "* **Inclusive AI**: Affordable AI-powered healthcare and education for rural India.\n",
    "* **AI in Democracy**: Smarter governance, transparent systems, AI-driven policymaking.\n",
    "* **Economic Boost**: AI could add **$1 trillion+ to India’s economy by 2035** (Accenture report).\n",
    "* **AI Sovereignty**: Development of **indigenous AI models** trained on Indian data, culture, and languages.\n",
    "* **Human–AI Collaboration**: Focus on AI as a **copilot for humans**, not a replacement.\n",
    "\n",
    "---\n",
    "\n",
    "📌 **Takeaway:**\n",
    "AI has the potential to **redefine India’s growth story**, much like IT did in the 90s. With the right balance of **policy, innovation, and ethics**, India can lead the **AI revolution** not just for itself, but for the **Global South**. 🌍🇮🇳\n",
    "\"\"\""
   ]
  },
  {
   "cell_type": "code",
   "execution_count": 17,
   "metadata": {},
   "outputs": [
    {
     "data": {
      "text/plain": [
       "{'feedback': \"The essay is exceptionally well-structured, clearly organized, and presents a comprehensive overview of AI's current landscape and future potential in India. The use of bullet points and emojis enhances readability without compromising professionalism. The content is factually accurate, with relevant statistics (e.g., 5,000+ AI startups, $1 trillion economic impact) and references to key initiatives like Digital India and NITI Aayog. The language is precise, formal, and appropriate for an academic or policy-oriented audience. Each section flows logically into the next, building a compelling narrative from现状 to vision. The conclusion effectively ties together the themes of inclusion, innovation, and global leadership. Minor improvements could include slightly more depth in discussing ethical challenges and expanding on how indigenous AI models might be developed. However, these are minor enhancements — the essay is already outstanding.\",\n",
       " 'score': 10}"
      ]
     },
     "execution_count": 17,
     "metadata": {},
     "output_type": "execute_result"
    }
   ],
   "source": [
    "prompt = f\"Evaluate the language quality of the following essay and provide a feedback and assign a score out of 10 \\n{essay}\"\n",
    "\n",
    "output = structured_model.invoke(prompt)\n",
    "output"
   ]
  },
  {
   "cell_type": "code",
   "execution_count": 18,
   "id": "5fbe4fda",
   "metadata": {},
   "outputs": [
    {
     "name": "stdout",
     "output_type": "stream",
     "text": [
      "The essay is exceptionally well-structured, clearly organized, and presents a comprehensive overview of AI's current landscape and future potential in India. The use of bullet points and emojis enhances readability without compromising professionalism. The content is factually accurate, with relevant statistics (e.g., 5,000+ AI startups, $1 trillion economic impact) and references to key initiatives like Digital India and NITI Aayog. The language is precise, formal, and appropriate for an academic or policy-oriented audience. Each section flows logically into the next, building a compelling narrative from现状 to vision. The conclusion effectively ties together the themes of inclusion, innovation, and global leadership. Minor improvements could include slightly more depth in discussing ethical challenges and expanding on how indigenous AI models might be developed. However, these are minor enhancements — the essay is already outstanding.\n",
      "10\n"
     ]
    }
   ],
   "source": [
    "print(output[\"feedback\"])\n",
    "print(output[\"score\"])"
   ]
  },
  {
   "cell_type": "code",
   "execution_count": 19,
   "metadata": {},
   "outputs": [],
   "source": [
    "class UPSCState(TypedDict):\n",
    "\n",
    "    essay_text: str\n",
    "\n",
    "    language_feedback: str\n",
    "    analysis_feedback: str\n",
    "    clarity_feedback: str\n",
    "\n",
    "    overall_feedback: str\n",
    "\n",
    "    individual_scores: Annotated[list[int], operator.add]\n",
    "    avg_score: float"
   ]
  },
  {
   "cell_type": "code",
   "execution_count": 20,
   "id": "6ecf5e9b",
   "metadata": {},
   "outputs": [],
   "source": [
    "def evaluate_language(state: UPSCState) -> UPSCState:\n",
    "    \n",
    "    prompt = f\"Evaluate the language quality of the following essay and provide a feedback and assign a score out of 10 \\n{state['essay_text']}\"\n",
    "    output = structured_model.invoke(prompt)\n",
    "    print(output)\n",
    "\n",
    "    return {'language_feedback': output[\"feedback\"], 'individual_scores': [output[\"score\"]]}\n"
   ]
  },
  {
   "cell_type": "code",
   "execution_count": 21,
   "id": "4069cfd3",
   "metadata": {},
   "outputs": [],
   "source": [
    "def evaluate_analysis(state: UPSCState) -> UPSCState:\n",
    "    \n",
    "    prompt = f\"Evaluate the depth analysis of the following essay and provide a feedback and assign a score out of 10 \\n{state['essay_text']}\"\n",
    "    output = structured_model.invoke(prompt)\n",
    "\n",
    "    return {'analysis_feedback': output[\"feedback\"], 'individual_scores': [output[\"score\"]]}"
   ]
  },
  {
   "cell_type": "code",
   "execution_count": 22,
   "id": "231789bc",
   "metadata": {},
   "outputs": [],
   "source": [
    "def evaluate_thought(state: UPSCState) -> UPSCState:\n",
    "\n",
    "    prompt = f\"Evaluate the clarity of thought of the following essay and provide a feedback and assign a score out of 10 \\n{state['essay_text']}\"\n",
    "    output = structured_model.invoke(prompt)\n",
    "\n",
    "    return {'clarity_feedback': output[\"feedback\"], 'individual_scores': [output[\"score\"]]}\n"
   ]
  },
  {
   "cell_type": "code",
   "execution_count": 23,
   "id": "5d9ba15c",
   "metadata": {},
   "outputs": [],
   "source": [
    "def final_evaluation(state: UPSCState) -> UPSCState:\n",
    "    # Fixed: Use correct state keys\n",
    "    prompt = f\"\"\"Based on the following feedback, create a summarized evaluation:\n",
    "        \n",
    "    Language feedback: {state['language_feedback']}\n",
    "    Analysis feedback: {state['analysis_feedback']} \n",
    "    Clarity feedback: {state['clarity_feedback']}\n",
    "\n",
    "    Provide a comprehensive overall assessment.\n",
    "    \"\"\"\n",
    "    \n",
    "    overall_feedback = structured_model.invoke(prompt)\n",
    "    avg_score = sum(state['individual_scores']) / len(state['individual_scores'])\n",
    "    \n",
    "    return {'overall_feedback': overall_feedback, 'avg_score': avg_score}\n"
   ]
  },
  {
   "cell_type": "code",
   "execution_count": 24,
   "metadata": {},
   "outputs": [],
   "source": [
    "graph = StateGraph(UPSCState)\n",
    "\n",
    "# nodes\n",
    "graph.add_node('evaluate_language', evaluate_language)\n",
    "graph.add_node('evaluate_analysis', evaluate_analysis)\n",
    "graph.add_node('evaluate_thought', evaluate_thought)\n",
    "\n",
    "graph.add_node('final_evaluation', final_evaluation)\n",
    "\n",
    "# edges\n",
    "graph.add_edge(START, 'evaluate_language')\n",
    "graph.add_edge(START, 'evaluate_analysis')\n",
    "graph.add_edge(START, 'evaluate_thought')\n",
    "\n",
    "graph.add_edge('evaluate_language', 'final_evaluation')\n",
    "graph.add_edge('evaluate_analysis', 'final_evaluation')\n",
    "graph.add_edge('evaluate_thought', 'final_evaluation')\n",
    "\n",
    "graph.add_edge('final_evaluation', END)\n",
    "\n",
    "workflow = graph.compile()"
   ]
  },
  {
   "cell_type": "code",
   "execution_count": 26,
   "id": "db3cd27e",
   "metadata": {},
   "outputs": [
    {
     "ename": "ValueError",
     "evalue": "Failed to reach https://mermaid.ink/ API while trying to render your graph. Status code: 502.\n\nTo resolve this issue:\n1. Check your internet connection and try again\n2. Try with higher retry settings: `draw_mermaid_png(..., max_retries=5, retry_delay=2.0)`\n3. Use the Pyppeteer rendering method which will render your graph locally in a browser: `draw_mermaid_png(..., draw_method=MermaidDrawMethod.PYPPETEER)`",
     "output_type": "error",
     "traceback": [
      "\u001b[31m---------------------------------------------------------------------------\u001b[39m",
      "\u001b[31mValueError\u001b[39m                                Traceback (most recent call last)",
      "\u001b[36mCell\u001b[39m\u001b[36m \u001b[39m\u001b[32mIn[26]\u001b[39m\u001b[32m, line 3\u001b[39m\n\u001b[32m      1\u001b[39m \u001b[38;5;66;03m# workflow\u001b[39;00m\n\u001b[32m      2\u001b[39m \u001b[38;5;28;01mfrom\u001b[39;00m\u001b[38;5;250m \u001b[39m\u001b[34;01mIPython\u001b[39;00m\u001b[34;01m.\u001b[39;00m\u001b[34;01mdisplay\u001b[39;00m\u001b[38;5;250m \u001b[39m\u001b[38;5;28;01mimport\u001b[39;00m Image\n\u001b[32m----> \u001b[39m\u001b[32m3\u001b[39m Image(\u001b[43mworkflow\u001b[49m\u001b[43m.\u001b[49m\u001b[43mget_graph\u001b[49m\u001b[43m(\u001b[49m\u001b[43m)\u001b[49m\u001b[43m.\u001b[49m\u001b[43mdraw_mermaid_png\u001b[49m\u001b[43m(\u001b[49m\u001b[43m)\u001b[49m)\n",
      "\u001b[36mFile \u001b[39m\u001b[32m/mnt/d/Academics/Generative AI by CampusX/.venv/lib/python3.12/site-packages/langchain_core/runnables/graph.py:695\u001b[39m, in \u001b[36mGraph.draw_mermaid_png\u001b[39m\u001b[34m(self, curve_style, node_colors, wrap_label_n_words, output_file_path, draw_method, background_color, padding, max_retries, retry_delay, frontmatter_config)\u001b[39m\n\u001b[32m    687\u001b[39m \u001b[38;5;28;01mfrom\u001b[39;00m\u001b[38;5;250m \u001b[39m\u001b[34;01mlangchain_core\u001b[39;00m\u001b[34;01m.\u001b[39;00m\u001b[34;01mrunnables\u001b[39;00m\u001b[34;01m.\u001b[39;00m\u001b[34;01mgraph_mermaid\u001b[39;00m\u001b[38;5;250m \u001b[39m\u001b[38;5;28;01mimport\u001b[39;00m draw_mermaid_png\n\u001b[32m    689\u001b[39m mermaid_syntax = \u001b[38;5;28mself\u001b[39m.draw_mermaid(\n\u001b[32m    690\u001b[39m     curve_style=curve_style,\n\u001b[32m    691\u001b[39m     node_colors=node_colors,\n\u001b[32m    692\u001b[39m     wrap_label_n_words=wrap_label_n_words,\n\u001b[32m    693\u001b[39m     frontmatter_config=frontmatter_config,\n\u001b[32m    694\u001b[39m )\n\u001b[32m--> \u001b[39m\u001b[32m695\u001b[39m \u001b[38;5;28;01mreturn\u001b[39;00m \u001b[43mdraw_mermaid_png\u001b[49m\u001b[43m(\u001b[49m\n\u001b[32m    696\u001b[39m \u001b[43m    \u001b[49m\u001b[43mmermaid_syntax\u001b[49m\u001b[43m=\u001b[49m\u001b[43mmermaid_syntax\u001b[49m\u001b[43m,\u001b[49m\n\u001b[32m    697\u001b[39m \u001b[43m    \u001b[49m\u001b[43moutput_file_path\u001b[49m\u001b[43m=\u001b[49m\u001b[43moutput_file_path\u001b[49m\u001b[43m,\u001b[49m\n\u001b[32m    698\u001b[39m \u001b[43m    \u001b[49m\u001b[43mdraw_method\u001b[49m\u001b[43m=\u001b[49m\u001b[43mdraw_method\u001b[49m\u001b[43m,\u001b[49m\n\u001b[32m    699\u001b[39m \u001b[43m    \u001b[49m\u001b[43mbackground_color\u001b[49m\u001b[43m=\u001b[49m\u001b[43mbackground_color\u001b[49m\u001b[43m,\u001b[49m\n\u001b[32m    700\u001b[39m \u001b[43m    \u001b[49m\u001b[43mpadding\u001b[49m\u001b[43m=\u001b[49m\u001b[43mpadding\u001b[49m\u001b[43m,\u001b[49m\n\u001b[32m    701\u001b[39m \u001b[43m    \u001b[49m\u001b[43mmax_retries\u001b[49m\u001b[43m=\u001b[49m\u001b[43mmax_retries\u001b[49m\u001b[43m,\u001b[49m\n\u001b[32m    702\u001b[39m \u001b[43m    \u001b[49m\u001b[43mretry_delay\u001b[49m\u001b[43m=\u001b[49m\u001b[43mretry_delay\u001b[49m\u001b[43m,\u001b[49m\n\u001b[32m    703\u001b[39m \u001b[43m\u001b[49m\u001b[43m)\u001b[49m\n",
      "\u001b[36mFile \u001b[39m\u001b[32m/mnt/d/Academics/Generative AI by CampusX/.venv/lib/python3.12/site-packages/langchain_core/runnables/graph_mermaid.py:294\u001b[39m, in \u001b[36mdraw_mermaid_png\u001b[39m\u001b[34m(mermaid_syntax, output_file_path, draw_method, background_color, padding, max_retries, retry_delay)\u001b[39m\n\u001b[32m    288\u001b[39m     img_bytes = asyncio.run(\n\u001b[32m    289\u001b[39m         _render_mermaid_using_pyppeteer(\n\u001b[32m    290\u001b[39m             mermaid_syntax, output_file_path, background_color, padding\n\u001b[32m    291\u001b[39m         )\n\u001b[32m    292\u001b[39m     )\n\u001b[32m    293\u001b[39m \u001b[38;5;28;01melif\u001b[39;00m draw_method == MermaidDrawMethod.API:\n\u001b[32m--> \u001b[39m\u001b[32m294\u001b[39m     img_bytes = \u001b[43m_render_mermaid_using_api\u001b[49m\u001b[43m(\u001b[49m\n\u001b[32m    295\u001b[39m \u001b[43m        \u001b[49m\u001b[43mmermaid_syntax\u001b[49m\u001b[43m,\u001b[49m\n\u001b[32m    296\u001b[39m \u001b[43m        \u001b[49m\u001b[43moutput_file_path\u001b[49m\u001b[43m=\u001b[49m\u001b[43moutput_file_path\u001b[49m\u001b[43m,\u001b[49m\n\u001b[32m    297\u001b[39m \u001b[43m        \u001b[49m\u001b[43mbackground_color\u001b[49m\u001b[43m=\u001b[49m\u001b[43mbackground_color\u001b[49m\u001b[43m,\u001b[49m\n\u001b[32m    298\u001b[39m \u001b[43m        \u001b[49m\u001b[43mmax_retries\u001b[49m\u001b[43m=\u001b[49m\u001b[43mmax_retries\u001b[49m\u001b[43m,\u001b[49m\n\u001b[32m    299\u001b[39m \u001b[43m        \u001b[49m\u001b[43mretry_delay\u001b[49m\u001b[43m=\u001b[49m\u001b[43mretry_delay\u001b[49m\u001b[43m,\u001b[49m\n\u001b[32m    300\u001b[39m \u001b[43m    \u001b[49m\u001b[43m)\u001b[49m\n\u001b[32m    301\u001b[39m \u001b[38;5;28;01melse\u001b[39;00m:\n\u001b[32m    302\u001b[39m     supported_methods = \u001b[33m\"\u001b[39m\u001b[33m, \u001b[39m\u001b[33m\"\u001b[39m.join([m.value \u001b[38;5;28;01mfor\u001b[39;00m m \u001b[38;5;129;01min\u001b[39;00m MermaidDrawMethod])\n",
      "\u001b[36mFile \u001b[39m\u001b[32m/mnt/d/Academics/Generative AI by CampusX/.venv/lib/python3.12/site-packages/langchain_core/runnables/graph_mermaid.py:451\u001b[39m, in \u001b[36m_render_mermaid_using_api\u001b[39m\u001b[34m(mermaid_syntax, output_file_path, background_color, file_type, max_retries, retry_delay)\u001b[39m\n\u001b[32m    446\u001b[39m     \u001b[38;5;66;03m# For other status codes, fail immediately\u001b[39;00m\n\u001b[32m    447\u001b[39m     msg = (\n\u001b[32m    448\u001b[39m         \u001b[33m\"\u001b[39m\u001b[33mFailed to reach https://mermaid.ink/ API while trying to render \u001b[39m\u001b[33m\"\u001b[39m\n\u001b[32m    449\u001b[39m         \u001b[33mf\u001b[39m\u001b[33m\"\u001b[39m\u001b[33myour graph. Status code: \u001b[39m\u001b[38;5;132;01m{\u001b[39;00mresponse.status_code\u001b[38;5;132;01m}\u001b[39;00m\u001b[33m.\u001b[39m\u001b[38;5;130;01m\\n\u001b[39;00m\u001b[38;5;130;01m\\n\u001b[39;00m\u001b[33m\"\u001b[39m\n\u001b[32m    450\u001b[39m     ) + error_msg_suffix\n\u001b[32m--> \u001b[39m\u001b[32m451\u001b[39m     \u001b[38;5;28;01mraise\u001b[39;00m \u001b[38;5;167;01mValueError\u001b[39;00m(msg)\n\u001b[32m    453\u001b[39m \u001b[38;5;28;01mexcept\u001b[39;00m (requests.RequestException, requests.Timeout) \u001b[38;5;28;01mas\u001b[39;00m e:\n\u001b[32m    454\u001b[39m     \u001b[38;5;28;01mif\u001b[39;00m attempt < max_retries:\n\u001b[32m    455\u001b[39m         \u001b[38;5;66;03m# Exponential backoff with jitter\u001b[39;00m\n",
      "\u001b[31mValueError\u001b[39m: Failed to reach https://mermaid.ink/ API while trying to render your graph. Status code: 502.\n\nTo resolve this issue:\n1. Check your internet connection and try again\n2. Try with higher retry settings: `draw_mermaid_png(..., max_retries=5, retry_delay=2.0)`\n3. Use the Pyppeteer rendering method which will render your graph locally in a browser: `draw_mermaid_png(..., draw_method=MermaidDrawMethod.PYPPETEER)`"
     ]
    }
   ],
   "source": [
    "# workflow\n",
    "from IPython.display import Image\n",
    "Image(workflow.get_graph().draw_mermaid_png())"
   ]
  },
  {
   "cell_type": "code",
   "execution_count": 27,
   "metadata": {},
   "outputs": [
    {
     "name": "stdout",
     "output_type": "stream",
     "text": [
      "{'feedback': \"The essay is exceptionally well-structured, clear, and engaging. It effectively organizes complex information into logical sections with intuitive headings and bullet points, enhancing readability. The language is precise, formal, and appropriate for an academic or policy-oriented audience. Technical terms (e.g., NLP, AGI, precision farming) are used accurately and contextually. The essay demonstrates strong vocabulary, varied sentence structure, and seamless transitions between ideas. The use of emojis is unconventional in formal writing but adds visual appeal without undermining credibility — though in strictly academic contexts, they might be omitted. The conclusion powerfully ties the essay together with a compelling vision, supported by credible references (e.g., Accenture report). Minor improvement: Consider expanding slightly on how 'AI sovereignty' might be practically achieved, or briefly mention public-private collaboration models. Overall, this is a model essay in clarity, depth, and coherence.\", 'score': 10}\n"
     ]
    },
    {
     "data": {
      "text/plain": [
       "{'essay_text': '\\n# 🌟 AI and Its Future in India\\n\\n## 📌 Current Landscape\\n\\n* **Rapid Growth**: India is among the **top 5 countries** in AI research publications.\\n* **Government Push**: Initiatives like **Digital India, National AI Strategy (NITI Aayog), and IndiaAI Mission** aim to build AI as a core pillar of development.\\n* **Startups & Industry**: Over **5,000+ AI startups** in India, focusing on healthtech, fintech, edtech, and agritech.\\n* **Skilled Workforce**: India produces the **largest pool of STEM graduates** annually, making it a hub for AI talent.\\n\\n---\\n\\n## 🔑 Key Application Areas\\n\\n1. **Healthcare 🏥**\\n\\n   * AI in medical imaging, disease prediction, and telemedicine.\\n   * Affordable AI-driven solutions for rural healthcare.\\n\\n2. **Agriculture 🌾**\\n\\n   * Precision farming with drones & AI sensors.\\n   * Predictive analytics for weather & crop yield.\\n   * Reducing supply chain inefficiencies.\\n\\n3. **Education 🎓**\\n\\n   * Personalized learning platforms with AI tutors.\\n   * Local-language learning tools powered by NLP.\\n   * Bridging urban–rural education gaps.\\n\\n4. **Finance & Banking 💰**\\n\\n   * Fraud detection & risk management.\\n   * AI-driven credit scoring for underserved communities.\\n   * Chatbots for customer support in regional languages.\\n\\n5. **Governance & Smart Cities 🏙️**\\n\\n   * Traffic management with AI vision systems.\\n   * Digital governance and citizen services.\\n   * Disaster response and resource optimization.\\n\\n---\\n\\n## 🚀 Opportunities Ahead\\n\\n* **Demographic Advantage**: Young, tech-savvy population ready to adopt AI.\\n* **Data Wealth**: India generates massive datasets — essential for training AI systems.\\n* **Local Language AI**: A huge opportunity lies in **developing AI for Indian languages** (22 official + 100+ spoken).\\n* **Global AI Hub Potential**: India can become an outsourcing + innovation hub for AI solutions like it did for IT.\\n\\n---\\n\\n## ⚠️ Challenges to Overcome\\n\\n* **Data Privacy & Security**: Need stronger AI governance and data protection laws.\\n* **Skill Gap**: Despite talent, advanced AI expertise (like deep learning, AGI research) is limited.\\n* **Infrastructure**: Limited GPU/data center capacity compared to the US/China.\\n* **Ethical Concerns**: Job displacement, bias in algorithms, and misuse of AI.\\n\\n---\\n\\n## 🌈 The Future Vision (Next 10–20 years)\\n\\n* **Inclusive AI**: Affordable AI-powered healthcare and education for rural India.\\n* **AI in Democracy**: Smarter governance, transparent systems, AI-driven policymaking.\\n* **Economic Boost**: AI could add **$1 trillion+ to India’s economy by 2035** (Accenture report).\\n* **AI Sovereignty**: Development of **indigenous AI models** trained on Indian data, culture, and languages.\\n* **Human–AI Collaboration**: Focus on AI as a **copilot for humans**, not a replacement.\\n\\n---\\n\\n📌 **Takeaway:**\\nAI has the potential to **redefine India’s growth story**, much like IT did in the 90s. With the right balance of **policy, innovation, and ethics**, India can lead the **AI revolution** not just for itself, but for the **Global South**. 🌍🇮🇳\\n',\n",
       " 'language_feedback': \"The essay is exceptionally well-structured, clear, and engaging. It effectively organizes complex information into logical sections with intuitive headings and bullet points, enhancing readability. The language is precise, formal, and appropriate for an academic or policy-oriented audience. Technical terms (e.g., NLP, AGI, precision farming) are used accurately and contextually. The essay demonstrates strong vocabulary, varied sentence structure, and seamless transitions between ideas. The use of emojis is unconventional in formal writing but adds visual appeal without undermining credibility — though in strictly academic contexts, they might be omitted. The conclusion powerfully ties the essay together with a compelling vision, supported by credible references (e.g., Accenture report). Minor improvement: Consider expanding slightly on how 'AI sovereignty' might be practically achieved, or briefly mention public-private collaboration models. Overall, this is a model essay in clarity, depth, and coherence.\",\n",
       " 'analysis_feedback': \"The essay provides a comprehensive and well-structured overview of AI's current landscape and future potential in India. It effectively highlights key sectors (healthcare, agriculture, education, finance, governance) with concrete examples and ties them to national initiatives like Digital India and the IndiaAI Mission. The inclusion of data points (e.g., 5,000+ startups, $1 trillion economic impact) adds credibility. The section on challenges is balanced and thoughtful, addressing not just technical gaps but also ethical and infrastructural concerns. The future vision is aspirational yet grounded, particularly in its emphasis on inclusive AI, local-language development, and AI sovereignty. The conclusion powerfully links AI's role to India's broader socio-economic transformation, drawing a compelling parallel with the IT boom. Minor improvements could include deeper analysis of policy implementation risks or case studies of successful AI deployments. Overall, this is an insightful, well-organized, and forward-looking analysis.\",\n",
       " 'clarity_feedback': \"The essay demonstrates exceptional clarity of thought. It is well-structured, logically organized, and presents a comprehensive overview of AI's current landscape, application areas, opportunities, challenges, and future vision in India. Each section flows naturally into the next, with clear transitions and concrete examples that reinforce the central argument. The use of bullet points enhances readability without sacrificing depth. The essay effectively balances optimism with realism by acknowledging both opportunities and challenges. The concluding takeaway is powerful and ties the entire argument together with a compelling vision. The language is precise, jargon is appropriately used, and cultural context is well-integrated (e.g., focus on Indian languages, rural inclusion). No significant ambiguities or logical gaps are present.\",\n",
       " 'overall_feedback': {'feedback': \"This is an outstanding essay that demonstrates exceptional clarity, depth, and structural coherence. The writing is precise, formal, and tailored for an academic or policy-oriented audience, with accurate use of technical terminology and seamless transitions between ideas. The analysis is comprehensive, covering key sectors such as healthcare, agriculture, education, finance, and governance with relevant examples and credible data (e.g., 5,000+ startups, $1 trillion economic impact). The essay effectively links AI's potential to national initiatives like Digital India and the IndiaAI Mission, while thoughtfully addressing challenges—including ethical, infrastructural, and sovereignty concerns. The future vision is aspirational yet grounded, emphasizing inclusive AI, local-language development, and equitable access. The conclusion powerfully connects AI's trajectory to India's broader socio-economic transformation, drawing a compelling parallel with the IT boom. Minor suggestions for improvement include expanding on practical pathways to AI sovereignty and incorporating brief case studies of successful AI deployments to strengthen policy implementation insights. The unconventional use of emojis adds visual appeal but may be omitted in strictly academic contexts. Overall, this essay sets a high standard for analytical writing on AI in the Indian context.\",\n",
       "  'score': 10},\n",
       " 'individual_scores': [9, 10, 10],\n",
       " 'avg_score': 9.666666666666666}"
      ]
     },
     "execution_count": 27,
     "metadata": {},
     "output_type": "execute_result"
    }
   ],
   "source": [
    "# Exectution\n",
    "initial_state = {\n",
    "    'essay_text': essay\n",
    "}\n",
    "\n",
    "workflow.invoke(initial_state)"
   ]
  }
 ],
 "metadata": {
  "kernelspec": {
   "display_name": "generative-ai-by-campusx",
   "language": "python",
   "name": "python3"
  },
  "language_info": {
   "codemirror_mode": {
    "name": "ipython",
    "version": 3
   },
   "file_extension": ".py",
   "mimetype": "text/x-python",
   "name": "python",
   "nbconvert_exporter": "python",
   "pygments_lexer": "ipython3",
   "version": "3.12.11"
  }
 },
 "nbformat": 4,
 "nbformat_minor": 5
}
