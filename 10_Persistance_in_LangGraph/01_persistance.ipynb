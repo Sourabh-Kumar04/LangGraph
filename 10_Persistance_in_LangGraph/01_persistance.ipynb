{
 "cells": [
  {
   "cell_type": "code",
   "execution_count": 1,
   "id": "610f1435",
   "metadata": {},
   "outputs": [
    {
     "data": {
      "text/plain": [
       "True"
      ]
     },
     "execution_count": 1,
     "metadata": {},
     "output_type": "execute_result"
    }
   ],
   "source": [
    "from langgraph.graph import StateGraph, START, END\n",
    "# from langgraph.graph.message import add_messages\n",
    "from langgraph.checkpoint.memory import InMemorySaver\n",
    "from langchain_huggingface import HuggingFaceEndpoint, ChatHuggingFace\n",
    "# from langchain_core.messages import BaseMessage, HumanMessage\n",
    "from typing import TypedDict\n",
    "from dotenv import load_dotenv\n",
    "# import operator\n",
    "import os\n",
    "\n",
    "load_dotenv()"
   ]
  },
  {
   "cell_type": "code",
   "execution_count": null,
   "metadata": {},
   "outputs": [],
   "source": [
    "llm = HuggingFaceEndpoint(\n",
    "    repo_id=\"openai/gpt-oss-20b\",\n",
    "    task=\"task-generation\",\n",
    "    huggingfacehub_api_token=os.getenv(\"HUGGINGFACEHUB_API_TOKEN\")\n",
    ")\n",
    "\n",
    "llm = ChatHuggingFace(llm=llm)\n"
   ]
  },
  {
   "cell_type": "code",
   "execution_count": 3,
   "id": "15c27d1d",
   "metadata": {},
   "outputs": [],
   "source": [
    "class JokeState(TypedDict):\n",
    "\n",
    "    topic: str\n",
    "    joke: str\n",
    "    explanantion: str"
   ]
  },
  {
   "cell_type": "code",
   "execution_count": 4,
   "metadata": {},
   "outputs": [],
   "source": [
    "def generate_joke(state: JokeState):\n",
    "    prompt = f\"Generate a funny joke on the topic {state['topic']}\"\n",
    "    response = llm.invoke(prompt)\n",
    "\n",
    "    return {'joke': response}"
   ]
  },
  {
   "cell_type": "code",
   "execution_count": 5,
   "id": "17b87fe1",
   "metadata": {},
   "outputs": [],
   "source": [
    "def generate_explanation(state: JokeState):\n",
    "    prompt =f\"Write am explanation for the joke: {state['joke']}\"\n",
    "    response = llm.invoke(prompt)\n",
    "\n",
    "    return {'explanation': response}"
   ]
  },
  {
   "cell_type": "code",
   "execution_count": 6,
   "metadata": {},
   "outputs": [],
   "source": [
    "graph = StateGraph(JokeState)\n",
    "\n",
    "# add nodes\n",
    "graph.add_node(generate_joke, generate_joke)\n",
    "graph.add_node('generate_explanation', generate_explanation)\n",
    "\n",
    "# add edges\n",
    "graph.add_edge(START, 'generate_joke')\n",
    "graph.add_edge('generate_joke', \"generate_explanation\")\n",
    "graph.add_edge('generate_explanation', END)\n",
    "\n",
    "checkpointer = InMemorySaver()\n",
    "\n",
    "workflow = graph.compile(checkpointer=checkpointer)"
   ]
  },
  {
   "cell_type": "code",
   "execution_count": 7,
   "id": "c2c9fc73",
   "metadata": {},
   "outputs": [
    {
     "data": {
      "image/png": "[encoded data removed]",
      "text/plain": [
       "<langgraph.graph.state.CompiledStateGraph object at 0x7a688c1bb0e0>"
      ]
     },
     "execution_count": 7,
     "metadata": {},
     "output_type": "execute_result"
    }
   ],
   "source": [
    "workflow"
   ]
  },
  {
   "cell_type": "code",
   "execution_count": 11,
   "metadata": {},
   "outputs": [
    {
     "data": {
      "text/plain": [
       "{'topic': 'Chatgpt',\n",
       " 'joke': AIMessage(content='Why did the human ask ChatGPT for a recipe for a good laugh?\\n\\nBecause we heard the AI’s “punchlines” are so algorithmic they’ll make your brain variables explode—and even if it can’t cook, it sure can sprinkle a joke with perfect syntax!', additional_kwargs={}, response_metadata={'token_usage': {'completion_tokens': 177, 'prompt_tokens': 81, 'total_tokens': 258}, 'model_name': 'openai/gpt-oss-20b', 'system_fingerprint': None, 'finish_reason': 'stop', 'logprobs': None}, id='run--667a7cca-a31b-4fbe-8629-199dfbe900eb-0', usage_metadata={'input_tokens': 81, 'output_tokens': 177, 'total_tokens': 258})}"
      ]
     },
     "execution_count": 11,
     "metadata": {},
     "output_type": "execute_result"
    }
   ],
   "source": [
    "config = {\"configurable\": {\"thread_id\": \"1\"}}\n",
    "workflow.invoke({'topic': 'Chatgpt'}, config=config)"
   ]
  },
  {
   "cell_type": "code",
   "execution_count": null,
   "metadata": {},
   "outputs": [
    {
     "data": {
      "text/plain": [
       "StateSnapshot(values={'topic': 'Chatgpt', 'joke': AIMessage(content='Why did the human ask ChatGPT for a recipe for a good laugh?\\n\\nBecause we heard the AI’s “punchlines” are so algorithmic they’ll make your brain variables explode—and even if it can’t cook, it sure can sprinkle a joke with perfect syntax!', additional_kwargs={}, response_metadata={'token_usage': {'completion_tokens': 177, 'prompt_tokens': 81, 'total_tokens': 258}, 'model_name': 'openai/gpt-oss-20b', 'system_fingerprint': None, 'finish_reason': 'stop', 'logprobs': None}, id='run--667a7cca-a31b-4fbe-8629-199dfbe900eb-0', usage_metadata={'input_tokens': 81, 'output_tokens': 177, 'total_tokens': 258})}, next=(), config={'configurable': {'thread_id': '1', 'checkpoint_ns': '', 'checkpoint_id': '1f097d27-9e0d-6b1e-8004-1f58d8565481'}}, metadata={'source': 'loop', 'step': 4, 'parents': {}}, created_at='2025-09-22T16:37:49.219026+00:00', parent_config={'configurable': {'thread_id': '1', 'checkpoint_ns': '', 'checkpoint_id': '1f097d27-7317-6e04-8003-b49c5a19dce2'}}, tasks=(), interrupts=())"
      ]
     },
     "execution_count": 12,
     "metadata": {},
     "output_type": "execute_result"
    }
   ],
   "source": [
    "workflow.get_state(config)  # final state value"
   ]
  },
  {
   "cell_type": "code",
   "execution_count": null,
   "metadata": {},
   "outputs": [],
   "source": [
    "workflow.get_state_history(config)  # Intermediate state value"
   ]
  },
  {
   "cell_type": "code",
   "execution_count": null,
   "id": "05f7c73a",
   "metadata": {},
   "outputs": [
    {
     "name": "stdout",
     "output_type": "stream",
     "text": [
      "Step 0 state: StateSnapshot(values={'topic': 'Chatgpt', 'joke': AIMessage(content='Why did the human ask ChatGPT for a recipe for a good laugh?\\n\\nBecause we heard the AI’s “punchlines” are so algorithmic they’ll make your brain variables explode—and even if it can’t cook, it sure can sprinkle a joke with perfect syntax!', additional_kwargs={}, response_metadata={'token_usage': {'completion_tokens': 177, 'prompt_tokens': 81, 'total_tokens': 258}, 'model_name': 'openai/gpt-oss-20b', 'system_fingerprint': None, 'finish_reason': 'stop', 'logprobs': None}, id='run--667a7cca-a31b-4fbe-8629-199dfbe900eb-0', usage_metadata={'input_tokens': 81, 'output_tokens': 177, 'total_tokens': 258})}, next=(), config={'configurable': {'thread_id': '1', 'checkpoint_ns': '', 'checkpoint_id': '1f097d27-9e0d-6b1e-8004-1f58d8565481'}}, metadata={'source': 'loop', 'step': 4, 'parents': {}}, created_at='2025-09-22T16:37:49.219026+00:00', parent_config={'configurable': {'thread_id': '1', 'checkpoint_ns': '', 'checkpoint_id': '1f097d27-7317-6e04-8003-b49c5a19dce2'}}, tasks=(), interrupts=())\n",
      "Step 1 state: StateSnapshot(values={'topic': 'Chatgpt', 'joke': AIMessage(content='Why did the human ask ChatGPT for a recipe for a good laugh?\\n\\nBecause we heard the AI’s “punchlines” are so algorithmic they’ll make your brain variables explode—and even if it can’t cook, it sure can sprinkle a joke with perfect syntax!', additional_kwargs={}, response_metadata={'token_usage': {'completion_tokens': 177, 'prompt_tokens': 81, 'total_tokens': 258}, 'model_name': 'openai/gpt-oss-20b', 'system_fingerprint': None, 'finish_reason': 'stop', 'logprobs': None}, id='run--667a7cca-a31b-4fbe-8629-199dfbe900eb-0', usage_metadata={'input_tokens': 81, 'output_tokens': 177, 'total_tokens': 258})}, next=('generate_explanation',), config={'configurable': {'thread_id': '1', 'checkpoint_ns': '', 'checkpoint_id': '1f097d27-7317-6e04-8003-b49c5a19dce2'}}, metadata={'source': 'loop', 'step': 3, 'parents': {}}, created_at='2025-09-22T16:37:44.714339+00:00', parent_config={'configurable': {'thread_id': '1', 'checkpoint_ns': '', 'checkpoint_id': '1f097d27-5a2e-6f7e-8002-f11cc163486a'}}, tasks=(PregelTask(id='72c277cc-894e-aba0-67a8-5c9132df514e', name='generate_explanation', path=('__pregel_pull', 'generate_explanation'), error=None, interrupts=(), state=None, result={}),), interrupts=())\n",
      "Step 2 state: StateSnapshot(values={'topic': 'Chatgpt'}, next=('generate_joke',), config={'configurable': {'thread_id': '1', 'checkpoint_ns': '', 'checkpoint_id': '1f097d27-5a2e-6f7e-8002-f11cc163486a'}}, metadata={'source': 'loop', 'step': 2, 'parents': {}}, created_at='2025-09-22T16:37:42.102382+00:00', parent_config={'configurable': {'thread_id': '1', 'checkpoint_ns': '', 'checkpoint_id': '1f097d27-5a23-6aee-8001-49c95dc73ee6'}}, tasks=(PregelTask(id='e4dd31b4-198b-5735-1518-f966149d917b', name='generate_joke', path=('__pregel_pull', 'generate_joke'), error=None, interrupts=(), state=None, result={'joke': AIMessage(content='Why did the human ask ChatGPT for a recipe for a good laugh?\\n\\nBecause we heard the AI’s “punchlines” are so algorithmic they’ll make your brain variables explode—and even if it can’t cook, it sure can sprinkle a joke with perfect syntax!', additional_kwargs={}, response_metadata={'token_usage': {'completion_tokens': 177, 'prompt_tokens': 81, 'total_tokens': 258}, 'model_name': 'openai/gpt-oss-20b', 'system_fingerprint': None, 'finish_reason': 'stop', 'logprobs': None}, id='run--667a7cca-a31b-4fbe-8629-199dfbe900eb-0', usage_metadata={'input_tokens': 81, 'output_tokens': 177, 'total_tokens': 258})}),), interrupts=())\n",
      "Step 3 state: StateSnapshot(values={'topic': 'Chatgpt'}, next=('__start__',), config={'configurable': {'thread_id': '1', 'checkpoint_ns': '', 'checkpoint_id': '1f097d27-5a23-6aee-8001-49c95dc73ee6'}}, metadata={'source': 'input', 'step': 1, 'parents': {}}, created_at='2025-09-22T16:37:42.097763+00:00', parent_config={'configurable': {'thread_id': '1', 'checkpoint_ns': '', 'checkpoint_id': '1f097d25-470e-6a3c-8000-4a7ab0d99328'}}, tasks=(PregelTask(id='4e8994ef-22ad-7603-3287-38c2c756e5c3', name='__start__', path=('__pregel_pull', '__start__'), error=None, interrupts=(), state=None, result={'topic': 'Chatgpt'}),), interrupts=())\n",
      "Step 4 state: StateSnapshot(values={'topic': 'Chatgpt'}, next=('generate_joke',), config={'configurable': {'thread_id': '1', 'checkpoint_ns': '', 'checkpoint_id': '1f097d25-470e-6a3c-8000-4a7ab0d99328'}}, metadata={'source': 'loop', 'step': 0, 'parents': {}}, created_at='2025-09-22T16:36:46.409691+00:00', parent_config={'configurable': {'thread_id': '1', 'checkpoint_ns': '', 'checkpoint_id': '1f097d25-46d5-636e-bfff-f548dff017c2'}}, tasks=(PregelTask(id='ada4c868-0688-a9ad-8c11-46d4cfe98c23', name='generate_joke', path=('__pregel_pull', 'generate_joke'), error=\"HfHubHTTPError('401 Client Error: Unauthorized for url: https://api.studio.nebius.ai/v1/chat/completions')\", interrupts=(), state=None, result=None),), interrupts=())\n",
      "Step 5 state: StateSnapshot(values={}, next=('__start__',), config={'configurable': {'thread_id': '1', 'checkpoint_ns': '', 'checkpoint_id': '1f097d25-46d5-636e-bfff-f548dff017c2'}}, metadata={'source': 'input', 'step': -1, 'parents': {}}, created_at='2025-09-22T16:36:46.386239+00:00', parent_config=None, tasks=(PregelTask(id='2ad508ff-e6d4-a485-b810-035d632af7ef', name='__start__', path=('__pregel_pull', '__start__'), error=None, interrupts=(), state=None, result={'topic': 'Chatgpt'}),), interrupts=())\n"
     ]
    }
   ],
   "source": [
    "state_history = workflow.get_state_history(config)\n",
    "for i, state in enumerate(state_history):\n",
    "    print(f\"Step {i} state: {state}\")"
   ]
  },
  {
   "cell_type": "code",
   "execution_count": 21,
   "id": "9d2096b3",
   "metadata": {},
   "outputs": [
    {
     "data": {
      "text/plain": [
       "{'topic': 'Google DeepMind',\n",
       " 'joke': AIMessage(content='Why did the Google DeepMind model go to therapy?  \\n\\nBecause it kept having “off‑policy” thoughts about its own *self‑improving* future!', additional_kwargs={}, response_metadata={'token_usage': {'completion_tokens': 170, 'prompt_tokens': 81, 'total_tokens': 251}, 'model_name': 'openai/gpt-oss-20b', 'system_fingerprint': None, 'finish_reason': 'stop', 'logprobs': None}, id='run--9bc331e2-ea62-4d8e-8efb-1f19b3b7689f-0', usage_metadata={'input_tokens': 81, 'output_tokens': 170, 'total_tokens': 251})}"
      ]
     },
     "execution_count": 21,
     "metadata": {},
     "output_type": "execute_result"
    }
   ],
   "source": [
    "config2 = {\"configurable\": {\"thread_id\": \"2\"}}\n",
    "workflow.invoke({'topic': 'Google DeepMind'}, config=config2)"
   ]
  },
  {
   "cell_type": "code",
   "execution_count": 25,
   "id": "04617543",
   "metadata": {},
   "outputs": [
    {
     "data": {
      "text/plain": [
       "StateSnapshot(values={'topic': 'Google DeepMind', 'joke': AIMessage(content='Why did the Google DeepMind model go to therapy?  \\n\\nBecause it kept having “off‑policy” thoughts about its own *self‑improving* future!', additional_kwargs={}, response_metadata={'token_usage': {'completion_tokens': 170, 'prompt_tokens': 81, 'total_tokens': 251}, 'model_name': 'openai/gpt-oss-20b', 'system_fingerprint': None, 'finish_reason': 'stop', 'logprobs': None}, id='run--9bc331e2-ea62-4d8e-8efb-1f19b3b7689f-0', usage_metadata={'input_tokens': 81, 'output_tokens': 170, 'total_tokens': 251})}, next=(), config={'configurable': {'thread_id': '2', 'checkpoint_ns': '', 'checkpoint_id': '1f097d3a-45eb-6867-8002-d816ebc358ec'}}, metadata={'source': 'loop', 'step': 2, 'parents': {}}, created_at='2025-09-22T16:46:10.004936+00:00', parent_config={'configurable': {'thread_id': '2', 'checkpoint_ns': '', 'checkpoint_id': '1f097d3a-0fb5-6cf6-8001-5970ddcf4659'}}, tasks=(), interrupts=())"
      ]
     },
     "execution_count": 25,
     "metadata": {},
     "output_type": "execute_result"
    }
   ],
   "source": [
    "workflow.get_state(config2)  # final state value"
   ]
  },
  {
   "cell_type": "code",
   "execution_count": 24,
   "id": "3a7e7dc8",
   "metadata": {},
   "outputs": [
    {
     "name": "stdout",
     "output_type": "stream",
     "text": [
      "Step 0 state: StateSnapshot(values={'topic': 'Google DeepMind', 'joke': AIMessage(content='Why did the Google DeepMind model go to therapy?  \\n\\nBecause it kept having “off‑policy” thoughts about its own *self‑improving* future!', additional_kwargs={}, response_metadata={'token_usage': {'completion_tokens': 170, 'prompt_tokens': 81, 'total_tokens': 251}, 'model_name': 'openai/gpt-oss-20b', 'system_fingerprint': None, 'finish_reason': 'stop', 'logprobs': None}, id='run--9bc331e2-ea62-4d8e-8efb-1f19b3b7689f-0', usage_metadata={'input_tokens': 81, 'output_tokens': 170, 'total_tokens': 251})}, next=(), config={'configurable': {'thread_id': '2', 'checkpoint_ns': '', 'checkpoint_id': '1f097d3a-45eb-6867-8002-d816ebc358ec'}}, metadata={'source': 'loop', 'step': 2, 'parents': {}}, created_at='2025-09-22T16:46:10.004936+00:00', parent_config={'configurable': {'thread_id': '2', 'checkpoint_ns': '', 'checkpoint_id': '1f097d3a-0fb5-6cf6-8001-5970ddcf4659'}}, tasks=(), interrupts=())\n",
      "Step 1 state: StateSnapshot(values={'topic': 'Google DeepMind', 'joke': AIMessage(content='Why did the Google DeepMind model go to therapy?  \\n\\nBecause it kept having “off‑policy” thoughts about its own *self‑improving* future!', additional_kwargs={}, response_metadata={'token_usage': {'completion_tokens': 170, 'prompt_tokens': 81, 'total_tokens': 251}, 'model_name': 'openai/gpt-oss-20b', 'system_fingerprint': None, 'finish_reason': 'stop', 'logprobs': None}, id='run--9bc331e2-ea62-4d8e-8efb-1f19b3b7689f-0', usage_metadata={'input_tokens': 81, 'output_tokens': 170, 'total_tokens': 251})}, next=('generate_explanation',), config={'configurable': {'thread_id': '2', 'checkpoint_ns': '', 'checkpoint_id': '1f097d3a-0fb5-6cf6-8001-5970ddcf4659'}}, metadata={'source': 'loop', 'step': 1, 'parents': {}}, created_at='2025-09-22T16:46:04.320659+00:00', parent_config={'configurable': {'thread_id': '2', 'checkpoint_ns': '', 'checkpoint_id': '1f097d39-f7b6-6bbc-8000-aee190a964a0'}}, tasks=(PregelTask(id='4922f4fa-e00f-fdba-7f0c-8830126e58b4', name='generate_explanation', path=('__pregel_pull', 'generate_explanation'), error=None, interrupts=(), state=None, result={}),), interrupts=())\n",
      "Step 2 state: StateSnapshot(values={'topic': 'Google DeepMind'}, next=('generate_joke',), config={'configurable': {'thread_id': '2', 'checkpoint_ns': '', 'checkpoint_id': '1f097d39-f7b6-6bbc-8000-aee190a964a0'}}, metadata={'source': 'loop', 'step': 0, 'parents': {}}, created_at='2025-09-22T16:46:01.804451+00:00', parent_config={'configurable': {'thread_id': '2', 'checkpoint_ns': '', 'checkpoint_id': '1f097d39-f790-6931-bfff-62bd698c167c'}}, tasks=(PregelTask(id='e0b5772f-c117-ef24-3fa5-372644e46de8', name='generate_joke', path=('__pregel_pull', 'generate_joke'), error=None, interrupts=(), state=None, result={'joke': AIMessage(content='Why did the Google DeepMind model go to therapy?  \\n\\nBecause it kept having “off‑policy” thoughts about its own *self‑improving* future!', additional_kwargs={}, response_metadata={'token_usage': {'completion_tokens': 170, 'prompt_tokens': 81, 'total_tokens': 251}, 'model_name': 'openai/gpt-oss-20b', 'system_fingerprint': None, 'finish_reason': 'stop', 'logprobs': None}, id='run--9bc331e2-ea62-4d8e-8efb-1f19b3b7689f-0', usage_metadata={'input_tokens': 81, 'output_tokens': 170, 'total_tokens': 251})}),), interrupts=())\n",
      "Step 3 state: StateSnapshot(values={}, next=('__start__',), config={'configurable': {'thread_id': '2', 'checkpoint_ns': '', 'checkpoint_id': '1f097d39-f790-6931-bfff-62bd698c167c'}}, metadata={'source': 'input', 'step': -1, 'parents': {}}, created_at='2025-09-22T16:46:01.788842+00:00', parent_config=None, tasks=(PregelTask(id='5f650346-1b97-a451-da21-117d36661332', name='__start__', path=('__pregel_pull', '__start__'), error=None, interrupts=(), state=None, result={'topic': 'Google DeepMind'}),), interrupts=())\n"
     ]
    }
   ],
   "source": [
    "state_history = workflow.get_state_history(config2)\n",
    "for i, state in enumerate(state_history):\n",
    "    print(f\"Step {i} state: {state}\")"
   ]
  }
 ],
 "metadata": {
  "kernelspec": {
   "display_name": "generative-ai-by-campusx",
   "language": "python",
   "name": "python3"
  },
  "language_info": {
   "codemirror_mode": {
    "name": "ipython",
    "version": 3
   },
   "file_extension": ".py",
   "mimetype": "text/x-python",
   "name": "python",
   "nbconvert_exporter": "python",
   "pygments_lexer": "ipython3",
   "version": "3.12.11"
  }
 },
 "nbformat": 4,
 "nbformat_minor": 5
}
