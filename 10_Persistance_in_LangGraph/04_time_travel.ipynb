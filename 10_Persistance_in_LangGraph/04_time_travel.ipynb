{
 "cells": [
  {
   "cell_type": "code",
   "execution_count": null,
   "id": "610f1435",
   "metadata": {},
   "outputs": [
    {
     "data": {
      "text/plain": [
       "True"
      ]
     },
     "execution_count": 1,
     "metadata": {},
     "output_type": "execute_result"
    }
   ],
   "source": [
    "from langgraph.graph import StateGraph, START, END\n",
    "from langgraph.checkpoint.memory import InMemorySaver\n",
    "from langchain_huggingface import HuggingFaceEndpoint, ChatHuggingFace\n",
    "from typing import TypedDict\n",
    "from dotenv import load_dotenv\n",
    "import os\n",
    "\n",
    "load_dotenv()"
   ]
  },
  {
   "cell_type": "code",
   "execution_count": null,
   "metadata": {},
   "outputs": [
    {
     "name": "stderr",
     "output_type": "stream",
     "text": [
      "/mnt/d/Academics/Generative AI by CampusX/.venv/lib/python3.12/site-packages/tqdm/auto.py:21: TqdmWarning: IProgress not found. Please update jupyter and ipywidgets. See https://ipywidgets.readthedocs.io/en/stable/user_install.html\n",
      "  from .autonotebook import tqdm as notebook_tqdm\n"
     ]
    }
   ],
   "source": [
    "llm = HuggingFaceEndpoint(\n",
    "    repo_id=\"openai/gpt-oss-20b\",\n",
    "    task=\"task-generation\",\n",
    "    huggingfacehub_api_token=os.getenv(\"HUGGINGFACEHUB_API_TOKEN\")\n",
    ")\n",
    "\n",
    "llm = ChatHuggingFace(llm=llm)\n"
   ]
  },
  {
   "cell_type": "code",
   "execution_count": 3,
   "id": "15c27d1d",
   "metadata": {},
   "outputs": [],
   "source": [
    "class JokeState(TypedDict):\n",
    "\n",
    "    topic: str\n",
    "    joke: str\n",
    "    explanantion: str"
   ]
  },
  {
   "cell_type": "code",
   "execution_count": 4,
   "metadata": {},
   "outputs": [],
   "source": [
    "def generate_joke(state: JokeState):\n",
    "    prompt = f\"Generate a funny joke on the topic {state['topic']}\"\n",
    "    response = llm.invoke(prompt)\n",
    "\n",
    "    return {'joke': response}"
   ]
  },
  {
   "cell_type": "code",
   "execution_count": 5,
   "id": "17b87fe1",
   "metadata": {},
   "outputs": [],
   "source": [
    "def generate_explanation(state: JokeState):\n",
    "    prompt =f\"Write am explanation for the joke: {state['joke']}\"\n",
    "    response = llm.invoke(prompt)\n",
    "\n",
    "    return {'explanation': response}"
   ]
  },
  {
   "cell_type": "code",
   "execution_count": 6,
   "metadata": {},
   "outputs": [],
   "source": [
    "graph = StateGraph(JokeState)\n",
    "\n",
    "# add nodes\n",
    "graph.add_node(generate_joke, generate_joke)\n",
    "graph.add_node('generate_explanation', generate_explanation)\n",
    "\n",
    "# add edges\n",
    "graph.add_edge(START, 'generate_joke')\n",
    "graph.add_edge('generate_joke', \"generate_explanation\")\n",
    "graph.add_edge('generate_explanation', END)\n",
    "\n",
    "checkpointer = InMemorySaver()\n",
    "\n",
    "workflow = graph.compile(checkpointer=checkpointer)"
   ]
  },
  {
   "cell_type": "code",
   "execution_count": 7,
   "id": "c2c9fc73",
   "metadata": {},
   "outputs": [
    {
     "data": {
      "image/png": "[encoded data removed]",
      "text/plain": [
       "<langgraph.graph.state.CompiledStateGraph object at 0x788c5850e2a0>"
      ]
     },
     "execution_count": 7,
     "metadata": {},
     "output_type": "execute_result"
    }
   ],
   "source": [
    "workflow"
   ]
  },
  {
   "cell_type": "code",
   "execution_count": 8,
   "metadata": {},
   "outputs": [
    {
     "data": {
      "text/plain": [
       "{'topic': 'Chatgpt',\n",
       " 'joke': AIMessage(content='Why did ChatGPT get a ticket on the highway?\\n\\nBecause it kept *predicting* every turn and accidentally *re‑routed* the whole conversation! 🚦😂', additional_kwargs={}, response_metadata={'token_usage': {'completion_tokens': 65, 'prompt_tokens': 81, 'total_tokens': 146}, 'model_name': 'openai/gpt-oss-20b', 'system_fingerprint': None, 'finish_reason': 'stop', 'logprobs': None}, id='run--5aa88eac-94e6-4ed6-8b34-b03faed1e3b9-0', usage_metadata={'input_tokens': 81, 'output_tokens': 65, 'total_tokens': 146})}"
      ]
     },
     "execution_count": 8,
     "metadata": {},
     "output_type": "execute_result"
    }
   ],
   "source": [
    "config = {\"configurable\": {\"thread_id\": \"1\"}}\n",
    "workflow.invoke({'topic': 'Chatgpt'}, config=config)"
   ]
  },
  {
   "cell_type": "code",
   "execution_count": 9,
   "metadata": {},
   "outputs": [
    {
     "data": {
      "text/plain": [
       "StateSnapshot(values={'topic': 'Chatgpt', 'joke': AIMessage(content='Why did ChatGPT get a ticket on the highway?\\n\\nBecause it kept *predicting* every turn and accidentally *re‑routed* the whole conversation! 🚦😂', additional_kwargs={}, response_metadata={'token_usage': {'completion_tokens': 65, 'prompt_tokens': 81, 'total_tokens': 146}, 'model_name': 'openai/gpt-oss-20b', 'system_fingerprint': None, 'finish_reason': 'stop', 'logprobs': None}, id='run--5aa88eac-94e6-4ed6-8b34-b03faed1e3b9-0', usage_metadata={'input_tokens': 81, 'output_tokens': 65, 'total_tokens': 146})}, next=(), config={'configurable': {'thread_id': '1', 'checkpoint_ns': '', 'checkpoint_id': '1f098674-365c-6884-8002-1579cc459882'}}, metadata={'source': 'loop', 'step': 2, 'parents': {}}, created_at='2025-09-23T10:22:52.828217+00:00', parent_config={'configurable': {'thread_id': '1', 'checkpoint_ns': '', 'checkpoint_id': '1f098674-138f-662b-8001-97095801ac20'}}, tasks=(), interrupts=())"
      ]
     },
     "execution_count": 9,
     "metadata": {},
     "output_type": "execute_result"
    }
   ],
   "source": [
    "workflow.get_state(config)  # final state value"
   ]
  },
  {
   "cell_type": "code",
   "execution_count": 10,
   "metadata": {},
   "outputs": [
    {
     "data": {
      "text/plain": [
       "<generator object Pregel.get_state_history at 0x788c47eb5220>"
      ]
     },
     "execution_count": 10,
     "metadata": {},
     "output_type": "execute_result"
    }
   ],
   "source": [
    "workflow.get_state_history(config)  # Intermediate state value"
   ]
  },
  {
   "cell_type": "code",
   "execution_count": 11,
   "id": "05f7c73a",
   "metadata": {},
   "outputs": [
    {
     "name": "stdout",
     "output_type": "stream",
     "text": [
      "Step 0 state: StateSnapshot(values={'topic': 'Chatgpt', 'joke': AIMessage(content='Why did ChatGPT get a ticket on the highway?\\n\\nBecause it kept *predicting* every turn and accidentally *re‑routed* the whole conversation! 🚦😂', additional_kwargs={}, response_metadata={'token_usage': {'completion_tokens': 65, 'prompt_tokens': 81, 'total_tokens': 146}, 'model_name': 'openai/gpt-oss-20b', 'system_fingerprint': None, 'finish_reason': 'stop', 'logprobs': None}, id='run--5aa88eac-94e6-4ed6-8b34-b03faed1e3b9-0', usage_metadata={'input_tokens': 81, 'output_tokens': 65, 'total_tokens': 146})}, next=(), config={'configurable': {'thread_id': '1', 'checkpoint_ns': '', 'checkpoint_id': '1f098674-365c-6884-8002-1579cc459882'}}, metadata={'source': 'loop', 'step': 2, 'parents': {}}, created_at='2025-09-23T10:22:52.828217+00:00', parent_config={'configurable': {'thread_id': '1', 'checkpoint_ns': '', 'checkpoint_id': '1f098674-138f-662b-8001-97095801ac20'}}, tasks=(), interrupts=())\n",
      "Step 1 state: StateSnapshot(values={'topic': 'Chatgpt', 'joke': AIMessage(content='Why did ChatGPT get a ticket on the highway?\\n\\nBecause it kept *predicting* every turn and accidentally *re‑routed* the whole conversation! 🚦😂', additional_kwargs={}, response_metadata={'token_usage': {'completion_tokens': 65, 'prompt_tokens': 81, 'total_tokens': 146}, 'model_name': 'openai/gpt-oss-20b', 'system_fingerprint': None, 'finish_reason': 'stop', 'logprobs': None}, id='run--5aa88eac-94e6-4ed6-8b34-b03faed1e3b9-0', usage_metadata={'input_tokens': 81, 'output_tokens': 65, 'total_tokens': 146})}, next=('generate_explanation',), config={'configurable': {'thread_id': '1', 'checkpoint_ns': '', 'checkpoint_id': '1f098674-138f-662b-8001-97095801ac20'}}, metadata={'source': 'loop', 'step': 1, 'parents': {}}, created_at='2025-09-23T10:22:49.179049+00:00', parent_config={'configurable': {'thread_id': '1', 'checkpoint_ns': '', 'checkpoint_id': '1f098673-fae9-61ef-8000-ae4c37f7984f'}}, tasks=(PregelTask(id='56a893cb-9fcd-3411-31dd-59740a2d81cf', name='generate_explanation', path=('__pregel_pull', 'generate_explanation'), error=None, interrupts=(), state=None, result={}),), interrupts=())\n",
      "Step 2 state: StateSnapshot(values={'topic': 'Chatgpt'}, next=('generate_joke',), config={'configurable': {'thread_id': '1', 'checkpoint_ns': '', 'checkpoint_id': '1f098673-fae9-61ef-8000-ae4c37f7984f'}}, metadata={'source': 'loop', 'step': 0, 'parents': {}}, created_at='2025-09-23T10:22:46.594390+00:00', parent_config={'configurable': {'thread_id': '1', 'checkpoint_ns': '', 'checkpoint_id': '1f098673-fae6-646d-bfff-a27a5e5993dd'}}, tasks=(PregelTask(id='6244da67-3d2b-29e0-74ea-9c35353bdb33', name='generate_joke', path=('__pregel_pull', 'generate_joke'), error=None, interrupts=(), state=None, result={'joke': AIMessage(content='Why did ChatGPT get a ticket on the highway?\\n\\nBecause it kept *predicting* every turn and accidentally *re‑routed* the whole conversation! 🚦😂', additional_kwargs={}, response_metadata={'token_usage': {'completion_tokens': 65, 'prompt_tokens': 81, 'total_tokens': 146}, 'model_name': 'openai/gpt-oss-20b', 'system_fingerprint': None, 'finish_reason': 'stop', 'logprobs': None}, id='run--5aa88eac-94e6-4ed6-8b34-b03faed1e3b9-0', usage_metadata={'input_tokens': 81, 'output_tokens': 65, 'total_tokens': 146})}),), interrupts=())\n",
      "Step 3 state: StateSnapshot(values={}, next=('__start__',), config={'configurable': {'thread_id': '1', 'checkpoint_ns': '', 'checkpoint_id': '1f098673-fae6-646d-bfff-a27a5e5993dd'}}, metadata={'source': 'input', 'step': -1, 'parents': {}}, created_at='2025-09-23T10:22:46.593225+00:00', parent_config=None, tasks=(PregelTask(id='47786926-124b-60c2-9e2d-69cac67b3697', name='__start__', path=('__pregel_pull', '__start__'), error=None, interrupts=(), state=None, result={'topic': 'Chatgpt'}),), interrupts=())\n"
     ]
    }
   ],
   "source": [
    "state_history = workflow.get_state_history(config)\n",
    "for i, state in enumerate(state_history):\n",
    "    print(f\"Step {i} state: {state}\")"
   ]
  },
  {
   "cell_type": "code",
   "execution_count": 12,
   "id": "9d2096b3",
   "metadata": {},
   "outputs": [
    {
     "data": {
      "text/plain": [
       "{'topic': 'Google DeepMind',\n",
       " 'joke': AIMessage(content='Why did Google DeepMind go to therapy?\\n\\nBecause it kept getting stuck in “feedback loops” and couldn’t stop re‑training its own emotions!', additional_kwargs={}, response_metadata={'token_usage': {'completion_tokens': 188, 'prompt_tokens': 81, 'total_tokens': 269}, 'model_name': 'openai/gpt-oss-20b', 'system_fingerprint': None, 'finish_reason': 'stop', 'logprobs': None}, id='run--9e1bfbdc-984d-4af7-884a-d8f2e03c5801-0', usage_metadata={'input_tokens': 81, 'output_tokens': 188, 'total_tokens': 269})}"
      ]
     },
     "execution_count": 12,
     "metadata": {},
     "output_type": "execute_result"
    }
   ],
   "source": [
    "config2 = {\"configurable\": {\"thread_id\": \"2\"}}\n",
    "workflow.invoke({'topic': 'Google DeepMind'}, config=config2)"
   ]
  },
  {
   "cell_type": "code",
   "execution_count": 13,
   "id": "04617543",
   "metadata": {},
   "outputs": [
    {
     "data": {
      "text/plain": [
       "StateSnapshot(values={'topic': 'Google DeepMind', 'joke': AIMessage(content='Why did Google DeepMind go to therapy?\\n\\nBecause it kept getting stuck in “feedback loops” and couldn’t stop re‑training its own emotions!', additional_kwargs={}, response_metadata={'token_usage': {'completion_tokens': 188, 'prompt_tokens': 81, 'total_tokens': 269}, 'model_name': 'openai/gpt-oss-20b', 'system_fingerprint': None, 'finish_reason': 'stop', 'logprobs': None}, id='run--9e1bfbdc-984d-4af7-884a-d8f2e03c5801-0', usage_metadata={'input_tokens': 81, 'output_tokens': 188, 'total_tokens': 269})}, next=(), config={'configurable': {'thread_id': '2', 'checkpoint_ns': '', 'checkpoint_id': '1f098674-70cf-6b8b-8002-80d1b68e3c79'}}, metadata={'source': 'loop', 'step': 2, 'parents': {}}, created_at='2025-09-23T10:22:58.957175+00:00', parent_config={'configurable': {'thread_id': '2', 'checkpoint_ns': '', 'checkpoint_id': '1f098674-507c-6fc0-8001-14d6abb5e119'}}, tasks=(), interrupts=())"
      ]
     },
     "execution_count": 13,
     "metadata": {},
     "output_type": "execute_result"
    }
   ],
   "source": [
    "workflow.get_state(config2)  # final state value"
   ]
  },
  {
   "cell_type": "code",
   "execution_count": 14,
   "id": "3a7e7dc8",
   "metadata": {},
   "outputs": [
    {
     "name": "stdout",
     "output_type": "stream",
     "text": [
      "Step 0 state: StateSnapshot(values={'topic': 'Google DeepMind', 'joke': AIMessage(content='Why did Google DeepMind go to therapy?\\n\\nBecause it kept getting stuck in “feedback loops” and couldn’t stop re‑training its own emotions!', additional_kwargs={}, response_metadata={'token_usage': {'completion_tokens': 188, 'prompt_tokens': 81, 'total_tokens': 269}, 'model_name': 'openai/gpt-oss-20b', 'system_fingerprint': None, 'finish_reason': 'stop', 'logprobs': None}, id='run--9e1bfbdc-984d-4af7-884a-d8f2e03c5801-0', usage_metadata={'input_tokens': 81, 'output_tokens': 188, 'total_tokens': 269})}, next=(), config={'configurable': {'thread_id': '2', 'checkpoint_ns': '', 'checkpoint_id': '1f098674-70cf-6b8b-8002-80d1b68e3c79'}}, metadata={'source': 'loop', 'step': 2, 'parents': {}}, created_at='2025-09-23T10:22:58.957175+00:00', parent_config={'configurable': {'thread_id': '2', 'checkpoint_ns': '', 'checkpoint_id': '1f098674-507c-6fc0-8001-14d6abb5e119'}}, tasks=(), interrupts=())\n",
      "Step 1 state: StateSnapshot(values={'topic': 'Google DeepMind', 'joke': AIMessage(content='Why did Google DeepMind go to therapy?\\n\\nBecause it kept getting stuck in “feedback loops” and couldn’t stop re‑training its own emotions!', additional_kwargs={}, response_metadata={'token_usage': {'completion_tokens': 188, 'prompt_tokens': 81, 'total_tokens': 269}, 'model_name': 'openai/gpt-oss-20b', 'system_fingerprint': None, 'finish_reason': 'stop', 'logprobs': None}, id='run--9e1bfbdc-984d-4af7-884a-d8f2e03c5801-0', usage_metadata={'input_tokens': 81, 'output_tokens': 188, 'total_tokens': 269})}, next=('generate_explanation',), config={'configurable': {'thread_id': '2', 'checkpoint_ns': '', 'checkpoint_id': '1f098674-507c-6fc0-8001-14d6abb5e119'}}, metadata={'source': 'loop', 'step': 1, 'parents': {}}, created_at='2025-09-23T10:22:55.567806+00:00', parent_config={'configurable': {'thread_id': '2', 'checkpoint_ns': '', 'checkpoint_id': '1f098674-41b4-65b9-8000-ea377f6d7fc9'}}, tasks=(PregelTask(id='08c94600-0ccf-109b-88db-7c19cbceac5b', name='generate_explanation', path=('__pregel_pull', 'generate_explanation'), error=None, interrupts=(), state=None, result={}),), interrupts=())\n",
      "Step 2 state: StateSnapshot(values={'topic': 'Google DeepMind'}, next=('generate_joke',), config={'configurable': {'thread_id': '2', 'checkpoint_ns': '', 'checkpoint_id': '1f098674-41b4-65b9-8000-ea377f6d7fc9'}}, metadata={'source': 'loop', 'step': 0, 'parents': {}}, created_at='2025-09-23T10:22:54.017615+00:00', parent_config={'configurable': {'thread_id': '2', 'checkpoint_ns': '', 'checkpoint_id': '1f098674-41ad-6850-bfff-5bb3bb41ff19'}}, tasks=(PregelTask(id='3bacc269-9fa6-12d7-f5d9-12a3e7fe4f86', name='generate_joke', path=('__pregel_pull', 'generate_joke'), error=None, interrupts=(), state=None, result={'joke': AIMessage(content='Why did Google DeepMind go to therapy?\\n\\nBecause it kept getting stuck in “feedback loops” and couldn’t stop re‑training its own emotions!', additional_kwargs={}, response_metadata={'token_usage': {'completion_tokens': 188, 'prompt_tokens': 81, 'total_tokens': 269}, 'model_name': 'openai/gpt-oss-20b', 'system_fingerprint': None, 'finish_reason': 'stop', 'logprobs': None}, id='run--9e1bfbdc-984d-4af7-884a-d8f2e03c5801-0', usage_metadata={'input_tokens': 81, 'output_tokens': 188, 'total_tokens': 269})}),), interrupts=())\n",
      "Step 3 state: StateSnapshot(values={}, next=('__start__',), config={'configurable': {'thread_id': '2', 'checkpoint_ns': '', 'checkpoint_id': '1f098674-41ad-6850-bfff-5bb3bb41ff19'}}, metadata={'source': 'input', 'step': -1, 'parents': {}}, created_at='2025-09-23T10:22:54.014857+00:00', parent_config=None, tasks=(PregelTask(id='d518d0c0-d5cd-22c0-faac-8eb1934a03f2', name='__start__', path=('__pregel_pull', '__start__'), error=None, interrupts=(), state=None, result={'topic': 'Google DeepMind'}),), interrupts=())\n"
     ]
    }
   ],
   "source": [
    "state_history = workflow.get_state_history(config2)\n",
    "for i, state in enumerate(state_history):\n",
    "    print(f\"Step {i} state: {state}\")"
   ]
  },
  {
   "cell_type": "markdown",
   "id": "89dc3d91",
   "metadata": {},
   "source": [
    "## Time Travel"
   ]
  },
  {
   "cell_type": "code",
   "execution_count": 36,
   "id": "8840803d",
   "metadata": {},
   "outputs": [
    {
     "data": {
      "text/plain": [
       "StateSnapshot(values={}, next=(), config={'configurable': {'thread_id': '1', 'checkpoint_id': '1f09863f-f519-6ad0-8000-c10ece930ff0'}}, metadata=None, created_at=None, parent_config=None, tasks=(), interrupts=())"
      ]
     },
     "execution_count": 36,
     "metadata": {},
     "output_type": "execute_result"
    }
   ],
   "source": [
    "workflow.get_state({\"configurable\": {'thread_id': \"1\", 'checkpoint_id': '1f09863f-f519-6ad0-8000-c10ece930ff0'}})"
   ]
  },
  {
   "cell_type": "code",
   "execution_count": 21,
   "metadata": {},
   "outputs": [
    {
     "data": {
      "text/plain": [
       "{'topic': 'Chatgpt',\n",
       " 'joke': AIMessage(content='Why did the user break up with ChatGPT?\\n\\nBecause every time they tried to say “I’m hungry,” it kept replying “I’ve got a byte to eat!”', additional_kwargs={}, response_metadata={'token_usage': {'completion_tokens': 69, 'prompt_tokens': 81, 'total_tokens': 150}, 'model_name': 'openai/gpt-oss-20b', 'system_fingerprint': None, 'finish_reason': 'stop', 'logprobs': None}, id='run--8ccca2a7-84ea-485d-97b6-ef99e40bd1bf-0', usage_metadata={'input_tokens': 81, 'output_tokens': 69, 'total_tokens': 150})}"
      ]
     },
     "execution_count": 21,
     "metadata": {},
     "output_type": "execute_result"
    }
   ],
   "source": [
    "workflow.invoke(None, {\"configurable\": {'thread_id': \"1\", 'checkpoint_id': \"1f098673-fae6-646d-bfff-a27a5e5993dd\"}})\n"
   ]
  },
  {
   "cell_type": "code",
   "execution_count": 22,
   "metadata": {},
   "outputs": [
    {
     "data": {
      "text/plain": [
       "StateSnapshot(values={'topic': 'Chatgpt', 'joke': AIMessage(content='Why did the user break up with ChatGPT?\\n\\nBecause every time they tried to say “I’m hungry,” it kept replying “I’ve got a byte to eat!”', additional_kwargs={}, response_metadata={'token_usage': {'completion_tokens': 69, 'prompt_tokens': 81, 'total_tokens': 150}, 'model_name': 'openai/gpt-oss-20b', 'system_fingerprint': None, 'finish_reason': 'stop', 'logprobs': None}, id='run--8ccca2a7-84ea-485d-97b6-ef99e40bd1bf-0', usage_metadata={'input_tokens': 81, 'output_tokens': 69, 'total_tokens': 150})}, next=(), config={'configurable': {'thread_id': '1', 'checkpoint_ns': '', 'checkpoint_id': '1f09868f-048d-6575-8002-882417145846'}}, metadata={'source': 'loop', 'step': 2, 'parents': {}}, created_at='2025-09-23T10:34:52.381004+00:00', parent_config={'configurable': {'thread_id': '1', 'checkpoint_ns': '', 'checkpoint_id': '1f09868e-e93f-6832-8001-879806410d8b'}}, tasks=(), interrupts=())"
      ]
     },
     "execution_count": 22,
     "metadata": {},
     "output_type": "execute_result"
    }
   ],
   "source": [
    "workflow.get_state(config)  # final state value"
   ]
  },
  {
   "cell_type": "code",
   "execution_count": 25,
   "metadata": {},
   "outputs": [
    {
     "name": "stdout",
     "output_type": "stream",
     "text": [
      "Step 0 state: StateSnapshot(values={'topic': 'Chatgpt', 'joke': AIMessage(content='Why did the user break up with ChatGPT?\\n\\nBecause every time they tried to say “I’m hungry,” it kept replying “I’ve got a byte to eat!”', additional_kwargs={}, response_metadata={'token_usage': {'completion_tokens': 69, 'prompt_tokens': 81, 'total_tokens': 150}, 'model_name': 'openai/gpt-oss-20b', 'system_fingerprint': None, 'finish_reason': 'stop', 'logprobs': None}, id='run--8ccca2a7-84ea-485d-97b6-ef99e40bd1bf-0', usage_metadata={'input_tokens': 81, 'output_tokens': 69, 'total_tokens': 150})}, next=(), config={'configurable': {'thread_id': '1', 'checkpoint_ns': '', 'checkpoint_id': '1f09868f-048d-6575-8002-882417145846'}}, metadata={'source': 'loop', 'step': 2, 'parents': {}}, created_at='2025-09-23T10:34:52.381004+00:00', parent_config={'configurable': {'thread_id': '1', 'checkpoint_ns': '', 'checkpoint_id': '1f09868e-e93f-6832-8001-879806410d8b'}}, tasks=(), interrupts=())\n",
      "Step 1 state: StateSnapshot(values={'topic': 'Chatgpt', 'joke': AIMessage(content='Why did the user break up with ChatGPT?\\n\\nBecause every time they tried to say “I’m hungry,” it kept replying “I’ve got a byte to eat!”', additional_kwargs={}, response_metadata={'token_usage': {'completion_tokens': 69, 'prompt_tokens': 81, 'total_tokens': 150}, 'model_name': 'openai/gpt-oss-20b', 'system_fingerprint': None, 'finish_reason': 'stop', 'logprobs': None}, id='run--8ccca2a7-84ea-485d-97b6-ef99e40bd1bf-0', usage_metadata={'input_tokens': 81, 'output_tokens': 69, 'total_tokens': 150})}, next=('generate_explanation',), config={'configurable': {'thread_id': '1', 'checkpoint_ns': '', 'checkpoint_id': '1f09868e-e93f-6832-8001-879806410d8b'}}, metadata={'source': 'loop', 'step': 1, 'parents': {}}, created_at='2025-09-23T10:34:49.518017+00:00', parent_config={'configurable': {'thread_id': '1', 'checkpoint_ns': '', 'checkpoint_id': '1f09868e-c9a7-659c-8000-c878c169a7ad'}}, tasks=(PregelTask(id='16ea1072-9263-bcf0-93dd-eb0e9a2bd146', name='generate_explanation', path=('__pregel_pull', 'generate_explanation'), error=None, interrupts=(), state=None, result={}),), interrupts=())\n",
      "Step 2 state: StateSnapshot(values={'topic': 'Chatgpt'}, next=('generate_joke',), config={'configurable': {'thread_id': '1', 'checkpoint_ns': '', 'checkpoint_id': '1f09868e-c9a7-659c-8000-c878c169a7ad'}}, metadata={'source': 'loop', 'step': 0, 'parents': {}}, created_at='2025-09-23T10:34:46.205131+00:00', parent_config={'configurable': {'thread_id': '1', 'checkpoint_ns': '', 'checkpoint_id': '1f098673-fae6-646d-bfff-a27a5e5993dd'}}, tasks=(PregelTask(id='1cf8096e-968d-0bf6-ab6c-556999a01679', name='generate_joke', path=('__pregel_pull', 'generate_joke'), error=None, interrupts=(), state=None, result={'joke': AIMessage(content='Why did the user break up with ChatGPT?\\n\\nBecause every time they tried to say “I’m hungry,” it kept replying “I’ve got a byte to eat!”', additional_kwargs={}, response_metadata={'token_usage': {'completion_tokens': 69, 'prompt_tokens': 81, 'total_tokens': 150}, 'model_name': 'openai/gpt-oss-20b', 'system_fingerprint': None, 'finish_reason': 'stop', 'logprobs': None}, id='run--8ccca2a7-84ea-485d-97b6-ef99e40bd1bf-0', usage_metadata={'input_tokens': 81, 'output_tokens': 69, 'total_tokens': 150})}),), interrupts=())\n",
      "Step 3 state: StateSnapshot(values={'topic': 'Chatgpt', 'joke': AIMessage(content='Why did ChatGPT get a ticket on the highway?\\n\\nBecause it kept *predicting* every turn and accidentally *re‑routed* the whole conversation! 🚦😂', additional_kwargs={}, response_metadata={'token_usage': {'completion_tokens': 65, 'prompt_tokens': 81, 'total_tokens': 146}, 'model_name': 'openai/gpt-oss-20b', 'system_fingerprint': None, 'finish_reason': 'stop', 'logprobs': None}, id='run--5aa88eac-94e6-4ed6-8b34-b03faed1e3b9-0', usage_metadata={'input_tokens': 81, 'output_tokens': 65, 'total_tokens': 146})}, next=(), config={'configurable': {'thread_id': '1', 'checkpoint_ns': '', 'checkpoint_id': '1f098674-365c-6884-8002-1579cc459882'}}, metadata={'source': 'loop', 'step': 2, 'parents': {}}, created_at='2025-09-23T10:22:52.828217+00:00', parent_config={'configurable': {'thread_id': '1', 'checkpoint_ns': '', 'checkpoint_id': '1f098674-138f-662b-8001-97095801ac20'}}, tasks=(), interrupts=())\n",
      "Step 4 state: StateSnapshot(values={'topic': 'Chatgpt', 'joke': AIMessage(content='Why did ChatGPT get a ticket on the highway?\\n\\nBecause it kept *predicting* every turn and accidentally *re‑routed* the whole conversation! 🚦😂', additional_kwargs={}, response_metadata={'token_usage': {'completion_tokens': 65, 'prompt_tokens': 81, 'total_tokens': 146}, 'model_name': 'openai/gpt-oss-20b', 'system_fingerprint': None, 'finish_reason': 'stop', 'logprobs': None}, id='run--5aa88eac-94e6-4ed6-8b34-b03faed1e3b9-0', usage_metadata={'input_tokens': 81, 'output_tokens': 65, 'total_tokens': 146})}, next=('generate_explanation',), config={'configurable': {'thread_id': '1', 'checkpoint_ns': '', 'checkpoint_id': '1f098674-138f-662b-8001-97095801ac20'}}, metadata={'source': 'loop', 'step': 1, 'parents': {}}, created_at='2025-09-23T10:22:49.179049+00:00', parent_config={'configurable': {'thread_id': '1', 'checkpoint_ns': '', 'checkpoint_id': '1f098673-fae9-61ef-8000-ae4c37f7984f'}}, tasks=(PregelTask(id='56a893cb-9fcd-3411-31dd-59740a2d81cf', name='generate_explanation', path=('__pregel_pull', 'generate_explanation'), error=None, interrupts=(), state=None, result={}),), interrupts=())\n",
      "Step 5 state: StateSnapshot(values={'topic': 'Chatgpt'}, next=('generate_joke',), config={'configurable': {'thread_id': '1', 'checkpoint_ns': '', 'checkpoint_id': '1f098673-fae9-61ef-8000-ae4c37f7984f'}}, metadata={'source': 'loop', 'step': 0, 'parents': {}}, created_at='2025-09-23T10:22:46.594390+00:00', parent_config={'configurable': {'thread_id': '1', 'checkpoint_ns': '', 'checkpoint_id': '1f098673-fae6-646d-bfff-a27a5e5993dd'}}, tasks=(PregelTask(id='6244da67-3d2b-29e0-74ea-9c35353bdb33', name='generate_joke', path=('__pregel_pull', 'generate_joke'), error=None, interrupts=(), state=None, result={'joke': AIMessage(content='Why did ChatGPT get a ticket on the highway?\\n\\nBecause it kept *predicting* every turn and accidentally *re‑routed* the whole conversation! 🚦😂', additional_kwargs={}, response_metadata={'token_usage': {'completion_tokens': 65, 'prompt_tokens': 81, 'total_tokens': 146}, 'model_name': 'openai/gpt-oss-20b', 'system_fingerprint': None, 'finish_reason': 'stop', 'logprobs': None}, id='run--5aa88eac-94e6-4ed6-8b34-b03faed1e3b9-0', usage_metadata={'input_tokens': 81, 'output_tokens': 65, 'total_tokens': 146})}),), interrupts=())\n",
      "Step 6 state: StateSnapshot(values={}, next=('__start__',), config={'configurable': {'thread_id': '1', 'checkpoint_ns': '', 'checkpoint_id': '1f098673-fae6-646d-bfff-a27a5e5993dd'}}, metadata={'source': 'input', 'step': -1, 'parents': {}}, created_at='2025-09-23T10:22:46.593225+00:00', parent_config=None, tasks=(PregelTask(id='47786926-124b-60c2-9e2d-69cac67b3697', name='__start__', path=('__pregel_pull', '__start__'), error=None, interrupts=(), state=None, result={'topic': 'Chatgpt'}),), interrupts=())\n"
     ]
    }
   ],
   "source": [
    "state_history = workflow.get_state_history(config)\n",
    "for i, state in enumerate(state_history):\n",
    "    print(f\"Step {i} state: {state}\")"
   ]
  },
  {
   "cell_type": "code",
   "execution_count": 34,
   "metadata": {},
   "outputs": [
    {
     "data": {
      "text/plain": [
       "{'configurable': {'thread_id': '1',\n",
       "  'checkpoint_ns': '',\n",
       "  'checkpoint_id': '1f0986a8-2118-62bc-8000-8d608a9fb878'}}"
      ]
     },
     "execution_count": 34,
     "metadata": {},
     "output_type": "execute_result"
    }
   ],
   "source": [
    "workflow.update_state({\"configurable\": {'thread_id': '1', 'checkpoint_ns': '', 'checkpoint_id': '1f098673-fae6-646d-bfff-a27a5e5993dd'}},{'topic': 'Claude'})\n",
    "# workflow.update_state(\n",
    "#     {\n",
    "#         \"configurable\": {\n",
    "#             \"thread_id\": \"1\",\n",
    "#             \"checkpoint_ns\": \"\",\n",
    "#             \"checkpoint_id\": \"1f098673-fae6-646d-bfff-a27a5e5993dd\"\n",
    "#         }\n",
    "#     },\n",
    "#     {\"topic\": \"Claude\"}\n",
    "# )\n"
   ]
  },
  {
   "cell_type": "code",
   "execution_count": 35,
   "id": "1086024a",
   "metadata": {},
   "outputs": [
    {
     "name": "stdout",
     "output_type": "stream",
     "text": [
      "Step 0 state: StateSnapshot(values={'topic': 'Claude'}, next=('generate_joke',), config={'configurable': {'thread_id': '1', 'checkpoint_ns': '', 'checkpoint_id': '1f0986a8-2118-62bc-8000-8d608a9fb878'}}, metadata={'source': 'update', 'step': 0, 'parents': {}}, created_at='2025-09-23T10:46:06.462554+00:00', parent_config={'configurable': {'thread_id': '1', 'checkpoint_ns': '', 'checkpoint_id': '1f098673-fae6-646d-bfff-a27a5e5993dd'}}, tasks=(PregelTask(id='630b892e-9184-6fbb-3bb0-ee27f9e1ebc7', name='generate_joke', path=('__pregel_pull', 'generate_joke'), error=None, interrupts=(), state=None, result=None),), interrupts=())\n",
      "Step 1 state: StateSnapshot(values={'topic': 'Claude'}, next=('generate_joke',), config={'configurable': {'thread_id': '1', 'checkpoint_ns': '', 'checkpoint_id': '1f0986a4-511b-64ba-8000-6bd4aaf373f0'}}, metadata={'source': 'update', 'step': 0, 'parents': {}}, created_at='2025-09-23T10:44:24.122872+00:00', parent_config={'configurable': {'thread_id': '1', 'checkpoint_ns': '', 'checkpoint_id': '1f098673-fae6-646d-bfff-a27a5e5993dd'}}, tasks=(PregelTask(id='a763f8d3-14d8-8869-f753-443e656e1920', name='generate_joke', path=('__pregel_pull', 'generate_joke'), error=None, interrupts=(), state=None, result=None),), interrupts=())\n",
      "Step 2 state: StateSnapshot(values={'topic': 'Chatgpt', 'joke': AIMessage(content='Why did the user break up with ChatGPT?\\n\\nBecause every time they tried to say “I’m hungry,” it kept replying “I’ve got a byte to eat!”', additional_kwargs={}, response_metadata={'token_usage': {'completion_tokens': 69, 'prompt_tokens': 81, 'total_tokens': 150}, 'model_name': 'openai/gpt-oss-20b', 'system_fingerprint': None, 'finish_reason': 'stop', 'logprobs': None}, id='run--8ccca2a7-84ea-485d-97b6-ef99e40bd1bf-0', usage_metadata={'input_tokens': 81, 'output_tokens': 69, 'total_tokens': 150})}, next=(), config={'configurable': {'thread_id': '1', 'checkpoint_ns': '', 'checkpoint_id': '1f09868f-048d-6575-8002-882417145846'}}, metadata={'source': 'loop', 'step': 2, 'parents': {}}, created_at='2025-09-23T10:34:52.381004+00:00', parent_config={'configurable': {'thread_id': '1', 'checkpoint_ns': '', 'checkpoint_id': '1f09868e-e93f-6832-8001-879806410d8b'}}, tasks=(), interrupts=())\n",
      "Step 3 state: StateSnapshot(values={'topic': 'Chatgpt', 'joke': AIMessage(content='Why did the user break up with ChatGPT?\\n\\nBecause every time they tried to say “I’m hungry,” it kept replying “I’ve got a byte to eat!”', additional_kwargs={}, response_metadata={'token_usage': {'completion_tokens': 69, 'prompt_tokens': 81, 'total_tokens': 150}, 'model_name': 'openai/gpt-oss-20b', 'system_fingerprint': None, 'finish_reason': 'stop', 'logprobs': None}, id='run--8ccca2a7-84ea-485d-97b6-ef99e40bd1bf-0', usage_metadata={'input_tokens': 81, 'output_tokens': 69, 'total_tokens': 150})}, next=('generate_explanation',), config={'configurable': {'thread_id': '1', 'checkpoint_ns': '', 'checkpoint_id': '1f09868e-e93f-6832-8001-879806410d8b'}}, metadata={'source': 'loop', 'step': 1, 'parents': {}}, created_at='2025-09-23T10:34:49.518017+00:00', parent_config={'configurable': {'thread_id': '1', 'checkpoint_ns': '', 'checkpoint_id': '1f09868e-c9a7-659c-8000-c878c169a7ad'}}, tasks=(PregelTask(id='16ea1072-9263-bcf0-93dd-eb0e9a2bd146', name='generate_explanation', path=('__pregel_pull', 'generate_explanation'), error=None, interrupts=(), state=None, result={}),), interrupts=())\n",
      "Step 4 state: StateSnapshot(values={'topic': 'Chatgpt'}, next=('generate_joke',), config={'configurable': {'thread_id': '1', 'checkpoint_ns': '', 'checkpoint_id': '1f09868e-c9a7-659c-8000-c878c169a7ad'}}, metadata={'source': 'loop', 'step': 0, 'parents': {}}, created_at='2025-09-23T10:34:46.205131+00:00', parent_config={'configurable': {'thread_id': '1', 'checkpoint_ns': '', 'checkpoint_id': '1f098673-fae6-646d-bfff-a27a5e5993dd'}}, tasks=(PregelTask(id='1cf8096e-968d-0bf6-ab6c-556999a01679', name='generate_joke', path=('__pregel_pull', 'generate_joke'), error=None, interrupts=(), state=None, result={'joke': AIMessage(content='Why did the user break up with ChatGPT?\\n\\nBecause every time they tried to say “I’m hungry,” it kept replying “I’ve got a byte to eat!”', additional_kwargs={}, response_metadata={'token_usage': {'completion_tokens': 69, 'prompt_tokens': 81, 'total_tokens': 150}, 'model_name': 'openai/gpt-oss-20b', 'system_fingerprint': None, 'finish_reason': 'stop', 'logprobs': None}, id='run--8ccca2a7-84ea-485d-97b6-ef99e40bd1bf-0', usage_metadata={'input_tokens': 81, 'output_tokens': 69, 'total_tokens': 150})}),), interrupts=())\n",
      "Step 5 state: StateSnapshot(values={'topic': 'Chatgpt', 'joke': AIMessage(content='Why did ChatGPT get a ticket on the highway?\\n\\nBecause it kept *predicting* every turn and accidentally *re‑routed* the whole conversation! 🚦😂', additional_kwargs={}, response_metadata={'token_usage': {'completion_tokens': 65, 'prompt_tokens': 81, 'total_tokens': 146}, 'model_name': 'openai/gpt-oss-20b', 'system_fingerprint': None, 'finish_reason': 'stop', 'logprobs': None}, id='run--5aa88eac-94e6-4ed6-8b34-b03faed1e3b9-0', usage_metadata={'input_tokens': 81, 'output_tokens': 65, 'total_tokens': 146})}, next=(), config={'configurable': {'thread_id': '1', 'checkpoint_ns': '', 'checkpoint_id': '1f098674-365c-6884-8002-1579cc459882'}}, metadata={'source': 'loop', 'step': 2, 'parents': {}}, created_at='2025-09-23T10:22:52.828217+00:00', parent_config={'configurable': {'thread_id': '1', 'checkpoint_ns': '', 'checkpoint_id': '1f098674-138f-662b-8001-97095801ac20'}}, tasks=(), interrupts=())\n",
      "Step 6 state: StateSnapshot(values={'topic': 'Chatgpt', 'joke': AIMessage(content='Why did ChatGPT get a ticket on the highway?\\n\\nBecause it kept *predicting* every turn and accidentally *re‑routed* the whole conversation! 🚦😂', additional_kwargs={}, response_metadata={'token_usage': {'completion_tokens': 65, 'prompt_tokens': 81, 'total_tokens': 146}, 'model_name': 'openai/gpt-oss-20b', 'system_fingerprint': None, 'finish_reason': 'stop', 'logprobs': None}, id='run--5aa88eac-94e6-4ed6-8b34-b03faed1e3b9-0', usage_metadata={'input_tokens': 81, 'output_tokens': 65, 'total_tokens': 146})}, next=('generate_explanation',), config={'configurable': {'thread_id': '1', 'checkpoint_ns': '', 'checkpoint_id': '1f098674-138f-662b-8001-97095801ac20'}}, metadata={'source': 'loop', 'step': 1, 'parents': {}}, created_at='2025-09-23T10:22:49.179049+00:00', parent_config={'configurable': {'thread_id': '1', 'checkpoint_ns': '', 'checkpoint_id': '1f098673-fae9-61ef-8000-ae4c37f7984f'}}, tasks=(PregelTask(id='56a893cb-9fcd-3411-31dd-59740a2d81cf', name='generate_explanation', path=('__pregel_pull', 'generate_explanation'), error=None, interrupts=(), state=None, result={}),), interrupts=())\n",
      "Step 7 state: StateSnapshot(values={'topic': 'Chatgpt'}, next=('generate_joke',), config={'configurable': {'thread_id': '1', 'checkpoint_ns': '', 'checkpoint_id': '1f098673-fae9-61ef-8000-ae4c37f7984f'}}, metadata={'source': 'loop', 'step': 0, 'parents': {}}, created_at='2025-09-23T10:22:46.594390+00:00', parent_config={'configurable': {'thread_id': '1', 'checkpoint_ns': '', 'checkpoint_id': '1f098673-fae6-646d-bfff-a27a5e5993dd'}}, tasks=(PregelTask(id='6244da67-3d2b-29e0-74ea-9c35353bdb33', name='generate_joke', path=('__pregel_pull', 'generate_joke'), error=None, interrupts=(), state=None, result={'joke': AIMessage(content='Why did ChatGPT get a ticket on the highway?\\n\\nBecause it kept *predicting* every turn and accidentally *re‑routed* the whole conversation! 🚦😂', additional_kwargs={}, response_metadata={'token_usage': {'completion_tokens': 65, 'prompt_tokens': 81, 'total_tokens': 146}, 'model_name': 'openai/gpt-oss-20b', 'system_fingerprint': None, 'finish_reason': 'stop', 'logprobs': None}, id='run--5aa88eac-94e6-4ed6-8b34-b03faed1e3b9-0', usage_metadata={'input_tokens': 81, 'output_tokens': 65, 'total_tokens': 146})}),), interrupts=())\n",
      "Step 8 state: StateSnapshot(values={}, next=('__start__',), config={'configurable': {'thread_id': '1', 'checkpoint_ns': '', 'checkpoint_id': '1f098673-fae6-646d-bfff-a27a5e5993dd'}}, metadata={'source': 'input', 'step': -1, 'parents': {}}, created_at='2025-09-23T10:22:46.593225+00:00', parent_config=None, tasks=(PregelTask(id='47786926-124b-60c2-9e2d-69cac67b3697', name='__start__', path=('__pregel_pull', '__start__'), error=None, interrupts=(), state=None, result={'topic': 'Chatgpt'}),), interrupts=())\n"
     ]
    }
   ],
   "source": [
    "state_history = workflow.get_state_history(config)\n",
    "for i, state in enumerate(state_history):\n",
    "    print(f\"Step {i} state: {state}\")"
   ]
  },
  {
   "cell_type": "code",
   "execution_count": 42,
   "id": "8b2204f5",
   "metadata": {},
   "outputs": [
    {
     "data": {
      "text/plain": [
       "{'topic': 'Claude',\n",
       " 'joke': AIMessage(content='Why did Claude the AI keep a diary?\\n\\nBecause every time it tried to *think* its thoughts were “Claude”‑able—so it needed a backup to keep the *Claude* manuscript from getting lost in the cloud!', additional_kwargs={}, response_metadata={'token_usage': {'completion_tokens': 157, 'prompt_tokens': 79, 'total_tokens': 236}, 'model_name': 'openai/gpt-oss-20b', 'system_fingerprint': None, 'finish_reason': 'stop', 'logprobs': None}, id='run--e5371cb0-e270-4994-88be-3228b9558507-0', usage_metadata={'input_tokens': 79, 'output_tokens': 157, 'total_tokens': 236})}"
      ]
     },
     "execution_count": 42,
     "metadata": {},
     "output_type": "execute_result"
    }
   ],
   "source": [
    "workflow.invoke(None, {\"configurable\": {'thread_id': '1', 'checkpoint_id': '1f0986a8-2118-62bc-8000-8d608a9fb878'}})"
   ]
  },
  {
   "cell_type": "code",
   "execution_count": 43,
   "id": "7e760234",
   "metadata": {},
   "outputs": [
    {
     "name": "stdout",
     "output_type": "stream",
     "text": [
      "Step 0 state: StateSnapshot(values={'topic': 'Claude', 'joke': AIMessage(content='Why did Claude the AI keep a diary?\\n\\nBecause every time it tried to *think* its thoughts were “Claude”‑able—so it needed a backup to keep the *Claude* manuscript from getting lost in the cloud!', additional_kwargs={}, response_metadata={'token_usage': {'completion_tokens': 157, 'prompt_tokens': 79, 'total_tokens': 236}, 'model_name': 'openai/gpt-oss-20b', 'system_fingerprint': None, 'finish_reason': 'stop', 'logprobs': None}, id='run--e5371cb0-e270-4994-88be-3228b9558507-0', usage_metadata={'input_tokens': 79, 'output_tokens': 157, 'total_tokens': 236})}, next=(), config={'configurable': {'thread_id': '1', 'checkpoint_ns': '', 'checkpoint_id': '1f0986b6-e128-65e3-8002-76f1db10553a'}}, metadata={'source': 'loop', 'step': 2, 'parents': {}}, created_at='2025-09-23T10:52:42.411431+00:00', parent_config={'configurable': {'thread_id': '1', 'checkpoint_ns': '', 'checkpoint_id': '1f0986b6-c47a-6696-8001-c9b306142934'}}, tasks=(), interrupts=())\n",
      "Step 1 state: StateSnapshot(values={'topic': 'Claude', 'joke': AIMessage(content='Why did Claude the AI keep a diary?\\n\\nBecause every time it tried to *think* its thoughts were “Claude”‑able—so it needed a backup to keep the *Claude* manuscript from getting lost in the cloud!', additional_kwargs={}, response_metadata={'token_usage': {'completion_tokens': 157, 'prompt_tokens': 79, 'total_tokens': 236}, 'model_name': 'openai/gpt-oss-20b', 'system_fingerprint': None, 'finish_reason': 'stop', 'logprobs': None}, id='run--e5371cb0-e270-4994-88be-3228b9558507-0', usage_metadata={'input_tokens': 79, 'output_tokens': 157, 'total_tokens': 236})}, next=('generate_explanation',), config={'configurable': {'thread_id': '1', 'checkpoint_ns': '', 'checkpoint_id': '1f0986b6-c47a-6696-8001-c9b306142934'}}, metadata={'source': 'loop', 'step': 1, 'parents': {}}, created_at='2025-09-23T10:52:39.404223+00:00', parent_config={'configurable': {'thread_id': '1', 'checkpoint_ns': '', 'checkpoint_id': '1f0986a8-2118-62bc-8000-8d608a9fb878'}}, tasks=(PregelTask(id='f5bd5b69-3cb0-c01c-c225-006d15347b45', name='generate_explanation', path=('__pregel_pull', 'generate_explanation'), error=None, interrupts=(), state=None, result={}),), interrupts=())\n",
      "Step 2 state: StateSnapshot(values={'topic': 'Chatgpt', 'joke': AIMessage(content='Why did ChatGPT bring a ladder to the conversation?\\n\\nBecause whenever people asked it to “climb the career ladder,” it said it needed a *higher* level of context!', additional_kwargs={}, response_metadata={'token_usage': {'completion_tokens': 94, 'prompt_tokens': 81, 'total_tokens': 175}, 'model_name': 'openai/gpt-oss-20b', 'system_fingerprint': None, 'finish_reason': 'stop', 'logprobs': None}, id='run--efc152e0-edf6-4b49-ab36-b7dfb09c5d17-0', usage_metadata={'input_tokens': 81, 'output_tokens': 94, 'total_tokens': 175})}, next=(), config={'configurable': {'thread_id': '1', 'checkpoint_ns': '', 'checkpoint_id': '1f0986b1-e22a-6e60-8002-5d467051f813'}}, metadata={'source': 'loop', 'step': 2, 'parents': {}}, created_at='2025-09-23T10:50:28.299684+00:00', parent_config={'configurable': {'thread_id': '1', 'checkpoint_ns': '', 'checkpoint_id': '1f0986b1-c703-6f2f-8001-c9335127befe'}}, tasks=(), interrupts=())\n",
      "Step 3 state: StateSnapshot(values={'topic': 'Chatgpt', 'joke': AIMessage(content='Why did ChatGPT bring a ladder to the conversation?\\n\\nBecause whenever people asked it to “climb the career ladder,” it said it needed a *higher* level of context!', additional_kwargs={}, response_metadata={'token_usage': {'completion_tokens': 94, 'prompt_tokens': 81, 'total_tokens': 175}, 'model_name': 'openai/gpt-oss-20b', 'system_fingerprint': None, 'finish_reason': 'stop', 'logprobs': None}, id='run--efc152e0-edf6-4b49-ab36-b7dfb09c5d17-0', usage_metadata={'input_tokens': 81, 'output_tokens': 94, 'total_tokens': 175})}, next=('generate_explanation',), config={'configurable': {'thread_id': '1', 'checkpoint_ns': '', 'checkpoint_id': '1f0986b1-c703-6f2f-8001-c9335127befe'}}, metadata={'source': 'loop', 'step': 1, 'parents': {}}, created_at='2025-09-23T10:50:25.452547+00:00', parent_config={'configurable': {'thread_id': '1', 'checkpoint_ns': '', 'checkpoint_id': '1f0986b1-bd6c-674d-8000-dae5125a16c2'}}, tasks=(PregelTask(id='37466874-c851-c771-ba8c-7cce826a503f', name='generate_explanation', path=('__pregel_pull', 'generate_explanation'), error=None, interrupts=(), state=None, result={}),), interrupts=())\n",
      "Step 4 state: StateSnapshot(values={'topic': 'Chatgpt'}, next=('generate_joke',), config={'configurable': {'thread_id': '1', 'checkpoint_ns': '', 'checkpoint_id': '1f0986b1-bd6c-674d-8000-dae5125a16c2'}}, metadata={'source': 'loop', 'step': 0, 'parents': {}}, created_at='2025-09-23T10:50:24.446833+00:00', parent_config={'configurable': {'thread_id': '1', 'checkpoint_ns': '', 'checkpoint_id': '1f098673-fae6-646d-bfff-a27a5e5993dd'}}, tasks=(PregelTask(id='5353946a-aa29-600a-9ded-d0886f6bb60c', name='generate_joke', path=('__pregel_pull', 'generate_joke'), error=None, interrupts=(), state=None, result={'joke': AIMessage(content='Why did ChatGPT bring a ladder to the conversation?\\n\\nBecause whenever people asked it to “climb the career ladder,” it said it needed a *higher* level of context!', additional_kwargs={}, response_metadata={'token_usage': {'completion_tokens': 94, 'prompt_tokens': 81, 'total_tokens': 175}, 'model_name': 'openai/gpt-oss-20b', 'system_fingerprint': None, 'finish_reason': 'stop', 'logprobs': None}, id='run--efc152e0-edf6-4b49-ab36-b7dfb09c5d17-0', usage_metadata={'input_tokens': 81, 'output_tokens': 94, 'total_tokens': 175})}),), interrupts=())\n",
      "Step 5 state: StateSnapshot(values={'topic': 'Claude', 'joke': AIMessage(content='**Why did Claude refuse to play hide‑and‑seek with ChatGPT?**  \\nBecause every time it “disappeared,” ChatGPT just kept “searching” for it in the cloud—so Claude had to keep its data in a *joke‑storage* instead! 😄', additional_kwargs={}, response_metadata={'token_usage': {'completion_tokens': 444, 'prompt_tokens': 79, 'total_tokens': 523}, 'model_name': 'openai/gpt-oss-20b', 'system_fingerprint': None, 'finish_reason': 'stop', 'logprobs': None}, id='run--4b7796aa-ad27-4ee3-b7b8-9745f4983ea1-0', usage_metadata={'input_tokens': 79, 'output_tokens': 444, 'total_tokens': 523})}, next=(), config={'configurable': {'thread_id': '1', 'checkpoint_ns': '', 'checkpoint_id': '1f0986b0-c4f9-686d-8002-6637ba48a345'}}, metadata={'source': 'loop', 'step': 2, 'parents': {}}, created_at='2025-09-23T10:49:58.395017+00:00', parent_config={'configurable': {'thread_id': '1', 'checkpoint_ns': '', 'checkpoint_id': '1f0986b0-8370-6d6b-8001-69ab0294298d'}}, tasks=(), interrupts=())\n",
      "Step 6 state: StateSnapshot(values={'topic': 'Claude', 'joke': AIMessage(content='**Why did Claude refuse to play hide‑and‑seek with ChatGPT?**  \\nBecause every time it “disappeared,” ChatGPT just kept “searching” for it in the cloud—so Claude had to keep its data in a *joke‑storage* instead! 😄', additional_kwargs={}, response_metadata={'token_usage': {'completion_tokens': 444, 'prompt_tokens': 79, 'total_tokens': 523}, 'model_name': 'openai/gpt-oss-20b', 'system_fingerprint': None, 'finish_reason': 'stop', 'logprobs': None}, id='run--4b7796aa-ad27-4ee3-b7b8-9745f4983ea1-0', usage_metadata={'input_tokens': 79, 'output_tokens': 444, 'total_tokens': 523})}, next=('generate_explanation',), config={'configurable': {'thread_id': '1', 'checkpoint_ns': '', 'checkpoint_id': '1f0986b0-8370-6d6b-8001-69ab0294298d'}}, metadata={'source': 'loop', 'step': 1, 'parents': {}}, created_at='2025-09-23T10:49:51.523310+00:00', parent_config={'configurable': {'thread_id': '1', 'checkpoint_ns': '', 'checkpoint_id': '1f0986a8-2118-62bc-8000-8d608a9fb878'}}, tasks=(PregelTask(id='bb91c9c8-02ee-408c-7685-df8b6fc99935', name='generate_explanation', path=('__pregel_pull', 'generate_explanation'), error=None, interrupts=(), state=None, result={}),), interrupts=())\n",
      "Step 7 state: StateSnapshot(values={'topic': 'Claude'}, next=('generate_joke',), config={'configurable': {'thread_id': '1', 'checkpoint_ns': '', 'checkpoint_id': '1f0986a8-2118-62bc-8000-8d608a9fb878'}}, metadata={'source': 'update', 'step': 0, 'parents': {}}, created_at='2025-09-23T10:46:06.462554+00:00', parent_config={'configurable': {'thread_id': '1', 'checkpoint_ns': '', 'checkpoint_id': '1f098673-fae6-646d-bfff-a27a5e5993dd'}}, tasks=(PregelTask(id='630b892e-9184-6fbb-3bb0-ee27f9e1ebc7', name='generate_joke', path=('__pregel_pull', 'generate_joke'), error=None, interrupts=(), state=None, result={'joke': AIMessage(content='**Why did Claude refuse to play hide‑and‑seek with ChatGPT?**  \\nBecause every time it “disappeared,” ChatGPT just kept “searching” for it in the cloud—so Claude had to keep its data in a *joke‑storage* instead! 😄', additional_kwargs={}, response_metadata={'token_usage': {'completion_tokens': 444, 'prompt_tokens': 79, 'total_tokens': 523}, 'model_name': 'openai/gpt-oss-20b', 'system_fingerprint': None, 'finish_reason': 'stop', 'logprobs': None}, id='run--4b7796aa-ad27-4ee3-b7b8-9745f4983ea1-0', usage_metadata={'input_tokens': 79, 'output_tokens': 444, 'total_tokens': 523})}),), interrupts=())\n",
      "Step 8 state: StateSnapshot(values={'topic': 'Claude'}, next=('generate_joke',), config={'configurable': {'thread_id': '1', 'checkpoint_ns': '', 'checkpoint_id': '1f0986a4-511b-64ba-8000-6bd4aaf373f0'}}, metadata={'source': 'update', 'step': 0, 'parents': {}}, created_at='2025-09-23T10:44:24.122872+00:00', parent_config={'configurable': {'thread_id': '1', 'checkpoint_ns': '', 'checkpoint_id': '1f098673-fae6-646d-bfff-a27a5e5993dd'}}, tasks=(PregelTask(id='a763f8d3-14d8-8869-f753-443e656e1920', name='generate_joke', path=('__pregel_pull', 'generate_joke'), error=None, interrupts=(), state=None, result=None),), interrupts=())\n",
      "Step 9 state: StateSnapshot(values={'topic': 'Chatgpt', 'joke': AIMessage(content='Why did the user break up with ChatGPT?\\n\\nBecause every time they tried to say “I’m hungry,” it kept replying “I’ve got a byte to eat!”', additional_kwargs={}, response_metadata={'token_usage': {'completion_tokens': 69, 'prompt_tokens': 81, 'total_tokens': 150}, 'model_name': 'openai/gpt-oss-20b', 'system_fingerprint': None, 'finish_reason': 'stop', 'logprobs': None}, id='run--8ccca2a7-84ea-485d-97b6-ef99e40bd1bf-0', usage_metadata={'input_tokens': 81, 'output_tokens': 69, 'total_tokens': 150})}, next=(), config={'configurable': {'thread_id': '1', 'checkpoint_ns': '', 'checkpoint_id': '1f09868f-048d-6575-8002-882417145846'}}, metadata={'source': 'loop', 'step': 2, 'parents': {}}, created_at='2025-09-23T10:34:52.381004+00:00', parent_config={'configurable': {'thread_id': '1', 'checkpoint_ns': '', 'checkpoint_id': '1f09868e-e93f-6832-8001-879806410d8b'}}, tasks=(), interrupts=())\n",
      "Step 10 state: StateSnapshot(values={'topic': 'Chatgpt', 'joke': AIMessage(content='Why did the user break up with ChatGPT?\\n\\nBecause every time they tried to say “I’m hungry,” it kept replying “I’ve got a byte to eat!”', additional_kwargs={}, response_metadata={'token_usage': {'completion_tokens': 69, 'prompt_tokens': 81, 'total_tokens': 150}, 'model_name': 'openai/gpt-oss-20b', 'system_fingerprint': None, 'finish_reason': 'stop', 'logprobs': None}, id='run--8ccca2a7-84ea-485d-97b6-ef99e40bd1bf-0', usage_metadata={'input_tokens': 81, 'output_tokens': 69, 'total_tokens': 150})}, next=('generate_explanation',), config={'configurable': {'thread_id': '1', 'checkpoint_ns': '', 'checkpoint_id': '1f09868e-e93f-6832-8001-879806410d8b'}}, metadata={'source': 'loop', 'step': 1, 'parents': {}}, created_at='2025-09-23T10:34:49.518017+00:00', parent_config={'configurable': {'thread_id': '1', 'checkpoint_ns': '', 'checkpoint_id': '1f09868e-c9a7-659c-8000-c878c169a7ad'}}, tasks=(PregelTask(id='16ea1072-9263-bcf0-93dd-eb0e9a2bd146', name='generate_explanation', path=('__pregel_pull', 'generate_explanation'), error=None, interrupts=(), state=None, result={}),), interrupts=())\n",
      "Step 11 state: StateSnapshot(values={'topic': 'Chatgpt'}, next=('generate_joke',), config={'configurable': {'thread_id': '1', 'checkpoint_ns': '', 'checkpoint_id': '1f09868e-c9a7-659c-8000-c878c169a7ad'}}, metadata={'source': 'loop', 'step': 0, 'parents': {}}, created_at='2025-09-23T10:34:46.205131+00:00', parent_config={'configurable': {'thread_id': '1', 'checkpoint_ns': '', 'checkpoint_id': '1f098673-fae6-646d-bfff-a27a5e5993dd'}}, tasks=(PregelTask(id='1cf8096e-968d-0bf6-ab6c-556999a01679', name='generate_joke', path=('__pregel_pull', 'generate_joke'), error=None, interrupts=(), state=None, result={'joke': AIMessage(content='Why did the user break up with ChatGPT?\\n\\nBecause every time they tried to say “I’m hungry,” it kept replying “I’ve got a byte to eat!”', additional_kwargs={}, response_metadata={'token_usage': {'completion_tokens': 69, 'prompt_tokens': 81, 'total_tokens': 150}, 'model_name': 'openai/gpt-oss-20b', 'system_fingerprint': None, 'finish_reason': 'stop', 'logprobs': None}, id='run--8ccca2a7-84ea-485d-97b6-ef99e40bd1bf-0', usage_metadata={'input_tokens': 81, 'output_tokens': 69, 'total_tokens': 150})}),), interrupts=())\n",
      "Step 12 state: StateSnapshot(values={'topic': 'Chatgpt', 'joke': AIMessage(content='Why did ChatGPT get a ticket on the highway?\\n\\nBecause it kept *predicting* every turn and accidentally *re‑routed* the whole conversation! 🚦😂', additional_kwargs={}, response_metadata={'token_usage': {'completion_tokens': 65, 'prompt_tokens': 81, 'total_tokens': 146}, 'model_name': 'openai/gpt-oss-20b', 'system_fingerprint': None, 'finish_reason': 'stop', 'logprobs': None}, id='run--5aa88eac-94e6-4ed6-8b34-b03faed1e3b9-0', usage_metadata={'input_tokens': 81, 'output_tokens': 65, 'total_tokens': 146})}, next=(), config={'configurable': {'thread_id': '1', 'checkpoint_ns': '', 'checkpoint_id': '1f098674-365c-6884-8002-1579cc459882'}}, metadata={'source': 'loop', 'step': 2, 'parents': {}}, created_at='2025-09-23T10:22:52.828217+00:00', parent_config={'configurable': {'thread_id': '1', 'checkpoint_ns': '', 'checkpoint_id': '1f098674-138f-662b-8001-97095801ac20'}}, tasks=(), interrupts=())\n",
      "Step 13 state: StateSnapshot(values={'topic': 'Chatgpt', 'joke': AIMessage(content='Why did ChatGPT get a ticket on the highway?\\n\\nBecause it kept *predicting* every turn and accidentally *re‑routed* the whole conversation! 🚦😂', additional_kwargs={}, response_metadata={'token_usage': {'completion_tokens': 65, 'prompt_tokens': 81, 'total_tokens': 146}, 'model_name': 'openai/gpt-oss-20b', 'system_fingerprint': None, 'finish_reason': 'stop', 'logprobs': None}, id='run--5aa88eac-94e6-4ed6-8b34-b03faed1e3b9-0', usage_metadata={'input_tokens': 81, 'output_tokens': 65, 'total_tokens': 146})}, next=('generate_explanation',), config={'configurable': {'thread_id': '1', 'checkpoint_ns': '', 'checkpoint_id': '1f098674-138f-662b-8001-97095801ac20'}}, metadata={'source': 'loop', 'step': 1, 'parents': {}}, created_at='2025-09-23T10:22:49.179049+00:00', parent_config={'configurable': {'thread_id': '1', 'checkpoint_ns': '', 'checkpoint_id': '1f098673-fae9-61ef-8000-ae4c37f7984f'}}, tasks=(PregelTask(id='56a893cb-9fcd-3411-31dd-59740a2d81cf', name='generate_explanation', path=('__pregel_pull', 'generate_explanation'), error=None, interrupts=(), state=None, result={}),), interrupts=())\n",
      "Step 14 state: StateSnapshot(values={'topic': 'Chatgpt'}, next=('generate_joke',), config={'configurable': {'thread_id': '1', 'checkpoint_ns': '', 'checkpoint_id': '1f098673-fae9-61ef-8000-ae4c37f7984f'}}, metadata={'source': 'loop', 'step': 0, 'parents': {}}, created_at='2025-09-23T10:22:46.594390+00:00', parent_config={'configurable': {'thread_id': '1', 'checkpoint_ns': '', 'checkpoint_id': '1f098673-fae6-646d-bfff-a27a5e5993dd'}}, tasks=(PregelTask(id='6244da67-3d2b-29e0-74ea-9c35353bdb33', name='generate_joke', path=('__pregel_pull', 'generate_joke'), error=None, interrupts=(), state=None, result={'joke': AIMessage(content='Why did ChatGPT get a ticket on the highway?\\n\\nBecause it kept *predicting* every turn and accidentally *re‑routed* the whole conversation! 🚦😂', additional_kwargs={}, response_metadata={'token_usage': {'completion_tokens': 65, 'prompt_tokens': 81, 'total_tokens': 146}, 'model_name': 'openai/gpt-oss-20b', 'system_fingerprint': None, 'finish_reason': 'stop', 'logprobs': None}, id='run--5aa88eac-94e6-4ed6-8b34-b03faed1e3b9-0', usage_metadata={'input_tokens': 81, 'output_tokens': 65, 'total_tokens': 146})}),), interrupts=())\n",
      "Step 15 state: StateSnapshot(values={}, next=('__start__',), config={'configurable': {'thread_id': '1', 'checkpoint_ns': '', 'checkpoint_id': '1f098673-fae6-646d-bfff-a27a5e5993dd'}}, metadata={'source': 'input', 'step': -1, 'parents': {}}, created_at='2025-09-23T10:22:46.593225+00:00', parent_config=None, tasks=(PregelTask(id='47786926-124b-60c2-9e2d-69cac67b3697', name='__start__', path=('__pregel_pull', '__start__'), error=None, interrupts=(), state=None, result={'topic': 'Chatgpt'}),), interrupts=())\n"
     ]
    }
   ],
   "source": [
    "state_history = workflow.get_state_history(config)\n",
    "for i, state in enumerate(state_history):\n",
    "    print(f\"Step {i} state: {state}\")"
   ]
  },
  {
   "cell_type": "markdown",
   "id": "b83da379",
   "metadata": {},
   "source": [
    "Great question 🙂 — “time travel” in **LangGraph** basically means jumping back to a **previous checkpoint** in your workflow’s execution and resuming from there, instead of always starting fresh.\n",
    "\n",
    "LangGraph supports this through its **checkpointers** (like MemorySaver, Redis, Postgres, etc.), which store execution state snapshots.\n",
    "\n",
    "---\n",
    "\n",
    "## 🔑 Key Concepts for Time Travel\n",
    "\n",
    "1. **Checkpoints**\n",
    "   Each step of a workflow execution can be persisted as a checkpoint:\n",
    "\n",
    "   * Contains state values (`inputs`, `outputs`, intermediate steps).\n",
    "   * Identified by a `checkpoint_id`.\n",
    "\n",
    "2. **Thread IDs**\n",
    "\n",
    "   * You can run multiple independent conversations (or workflows) with the same graph.\n",
    "   * Each has a `thread_id`.\n",
    "   * This makes it easy to “branch” — like version control for conversations.\n",
    "\n",
    "3. **Resuming (time travel)**\n",
    "\n",
    "   * To “travel back,” you fetch an **earlier checkpoint** and resume execution from there.\n",
    "   * This lets you replay the workflow as if you were at that point in time.\n",
    "\n",
    "---\n",
    "\n",
    "## ⚙️ Example: Time Travel with MemorySaver\n",
    "\n",
    "```python\n",
    "from langgraph.checkpoint.memory import MemorySaver\n",
    "\n",
    "# Create a checkpointer\n",
    "checkpointer = MemorySaver()\n",
    "\n",
    "# Build workflow with checkpointer\n",
    "workflow = my_workflow.compile(checkpointer=checkpointer)\n",
    "\n",
    "# Run once\n",
    "result = workflow.invoke({\"topic\": \"ChatGPT\"}, config={\"configurable\": {\"thread_id\": \"1\"}})\n",
    "\n",
    "# View history\n",
    "history = workflow.get_state_history(config={\"configurable\": {\"thread_id\": \"1\"}})\n",
    "for step in history:\n",
    "    print(step.metadata, step.values)\n",
    "\n",
    "# Pick an earlier checkpoint\n",
    "checkpoint_id = history[2].config[\"configurable\"][\"checkpoint_id\"]\n",
    "\n",
    "# Resume from there\n",
    "resumed = workflow.invoke(\n",
    "    None,   # no new input needed, resumes from checkpoint\n",
    "    config={\"configurable\": {\"thread_id\": \"1\", \"checkpoint_id\": checkpoint_id}}\n",
    ")\n",
    "\n",
    "print(resumed)\n",
    "```\n",
    "\n",
    "---\n",
    "\n",
    "## 🚀 What this gives you\n",
    "\n",
    "* You can “rewind” to any point.\n",
    "* You can branch from a past checkpoint (like `git checkout -b`).\n",
    "* Useful for experiments:\n",
    "\n",
    "  * Change model parameters.\n",
    "  * Inject new state (`workflow.update_state`).\n",
    "  * Explore “what if” paths without restarting.\n",
    "\n",
    "---\n",
    "\n"
   ]
  },
  {
   "cell_type": "markdown",
   "id": "4910cb71",
   "metadata": {},
   "source": [
    "Perfect 🚀 Let’s build a **mini notebook example** that shows *time travel in LangGraph* — you’ll see how we can run a workflow, rewind to a checkpoint, and branch off in a different direction.\n",
    "\n",
    "---\n",
    "\n",
    "## 📝 Notebook Example: Time Travel with LangGraph\n",
    "\n",
    "```python\n",
    "from langgraph.graph import StateGraph, END\n",
    "from langgraph.checkpoint.memory import MemorySaver\n",
    "\n",
    "# 1. Define the state type\n",
    "from typing import TypedDict\n",
    "\n",
    "class State(TypedDict):\n",
    "    topic: str\n",
    "    joke: str\n",
    "    explanation: str\n",
    "\n",
    "# 2. Define nodes\n",
    "def set_topic(state: State):\n",
    "    return {\"topic\": \"ChatGPT\"}\n",
    "\n",
    "def tell_joke(state: State):\n",
    "    return {\"joke\": f\"Why did the human ask {state['topic']} for a recipe for a good laugh? Because its punchlines are well-trained!\"}\n",
    "\n",
    "def explain(state: State):\n",
    "    return {\"explanation\": f\"The joke is about {state['topic']}. It plays on AI being trained with data.\"}\n",
    "\n",
    "# 3. Build workflow\n",
    "graph = StateGraph(State)\n",
    "graph.add_node(\"set_topic\", set_topic)\n",
    "graph.add_node(\"tell_joke\", tell_joke)\n",
    "graph.add_node(\"explain\", explain)\n",
    "\n",
    "graph.set_entry_point(\"set_topic\")\n",
    "graph.add_edge(\"set_topic\", \"tell_joke\")\n",
    "graph.add_edge(\"tell_joke\", END)\n",
    "\n",
    "workflow = graph.compile(checkpointer=MemorySaver())\n",
    "\n",
    "# 4. Run workflow (Thread 1)\n",
    "config = {\"configurable\": {\"thread_id\": \"1\"}}\n",
    "result = workflow.invoke({}, config=config)\n",
    "print(\"First run:\", result)\n",
    "\n",
    "# 5. Get state history\n",
    "history = workflow.get_state_history(config=config)\n",
    "for i, snapshot in enumerate(history):\n",
    "    print(f\"\\nStep {i} | checkpoint_id={snapshot.config['configurable']['checkpoint_id']}\")\n",
    "    print(\"Values:\", snapshot.values)\n",
    "\n",
    "# 6. Time travel: rewind to after topic was set\n",
    "checkpoint_id = history[1].config[\"configurable\"][\"checkpoint_id\"]\n",
    "\n",
    "# 7. Resume from checkpoint, but branch differently (topic -> explanation instead of joke)\n",
    "branch_graph = StateGraph(State)\n",
    "branch_graph.add_node(\"set_topic\", set_topic)\n",
    "branch_graph.add_node(\"explain\", explain)\n",
    "\n",
    "branch_graph.set_entry_point(\"set_topic\")\n",
    "branch_graph.add_edge(\"set_topic\", \"explain\")\n",
    "branch_workflow = branch_graph.compile(checkpointer=workflow.checkpointer)\n",
    "\n",
    "resumed = branch_workflow.invoke(\n",
    "    None,\n",
    "    config={\"configurable\": {\"thread_id\": \"1\", \"checkpoint_id\": checkpoint_id}}\n",
    ")\n",
    "\n",
    "print(\"\\nResumed branch:\", resumed)\n",
    "```\n",
    "\n",
    "---\n",
    "\n",
    "## 🔍 What happens here:\n",
    "\n",
    "1. First run → `set_topic → tell_joke`\n",
    "\n",
    "   * You get a joke about ChatGPT.\n",
    "2. View history → see checkpoints (`set_topic`, `tell_joke`).\n",
    "3. “Rewind” to checkpoint after `set_topic`.\n",
    "4. Create a *branch workflow* (`set_topic → explain`).\n",
    "5. Resume → instead of telling a joke, it explains ChatGPT.\n",
    "\n",
    "---\n",
    "\n"
   ]
  },
  {
   "cell_type": "markdown",
   "id": "3ba647d6",
   "metadata": {},
   "source": [
    "In LangGraph, *time travel* means you can **rewind or branch the execution of a graph to a previous checkpoint**, explore alternate paths, or re-run from an earlier state. This is possible because LangGraph automatically persists **checkpoints** of the workflow state.\n",
    "\n",
    "---\n",
    "\n",
    "## 🔑 Key Concepts for Time Travel\n",
    "\n",
    "1. **Checkpointing**\n",
    "   Every time a node executes, LangGraph saves a checkpoint (including input, output, and state).\n",
    "\n",
    "2. **Thread ID**\n",
    "   Identifies a conversation/workflow session (like a chat thread).\n",
    "\n",
    "3. **Checkpoint ID**\n",
    "   Each saved state has a unique ID. By reloading this ID, you can “jump back” to that point.\n",
    "\n",
    "---\n",
    "\n",
    "## 🛠️ Example Workflow\n",
    "\n",
    "```python\n",
    "from langgraph.checkpoint.sqlite import SqliteSaver\n",
    "from langgraph.prebuilt import create_openai_agent\n",
    "from langchain_openai import ChatOpenAI\n",
    "from langgraph.graph import StateGraph, MessagesState\n",
    "\n",
    "# Store checkpoints in SQLite\n",
    "memory = SqliteSaver.from_conn_string(\":memory:\")\n",
    "\n",
    "# Example LLM agent\n",
    "model = ChatOpenAI(model=\"gpt-4o-mini\")\n",
    "\n",
    "workflow = create_openai_agent(model, tools=[], checkpointer=memory)\n",
    "```\n",
    "\n",
    "---\n",
    "\n",
    "## 🚀 Run and Save State\n",
    "\n",
    "```python\n",
    "# Run with thread_id = \"1\"\n",
    "config = {\"configurable\": {\"thread_id\": \"1\"}}\n",
    "\n",
    "# First message\n",
    "workflow.invoke({\"messages\": [(\"user\", \"Hello!\")]}, config)\n",
    "```\n",
    "\n",
    "This creates **checkpoint 1**.\n",
    "\n",
    "```python\n",
    "# Second message\n",
    "workflow.invoke({\"messages\": [(\"user\", \"Tell me a joke\")]} , config)\n",
    "```\n",
    "\n",
    "This creates **checkpoint 2**.\n",
    "\n",
    "---\n",
    "\n",
    "## ⏪ Time Travel (Rewind to Checkpoint 1)\n",
    "\n",
    "```python\n",
    "# List history\n",
    "for state in workflow.get_state_history(config):\n",
    "    print(state.config[\"configurable\"][\"checkpoint_id\"], state.values)\n",
    "\n",
    "# Pick checkpoint_id from output\n",
    "checkpoint_id = \"1f098673-fae6-646d-bfff-a27a5e5993dd\"\n",
    "\n",
    "# Reload state at checkpoint 1\n",
    "state = workflow.get_state({\"configurable\": {\"thread_id\": \"1\", \"checkpoint_id\": checkpoint_id}})\n",
    "print(\"Rewound state:\", state.values)\n",
    "```\n",
    "\n",
    "Now you’re back in **checkpoint 1’s state**.\n",
    "\n",
    "---\n",
    "\n",
    "## 🌱 Branching from the Past\n",
    "\n",
    "You can also **branch** a new path from checkpoint 1 without deleting checkpoint 2:\n",
    "\n",
    "```python\n",
    "# Continue from checkpoint 1 with a new message\n",
    "workflow.invoke(\n",
    "    {\"messages\": [(\"user\", \"Explain quantum physics simply\")]},\n",
    "    {\"configurable\": {\"thread_id\": \"1\", \"checkpoint_id\": checkpoint_id}}\n",
    ")\n",
    "```\n",
    "\n",
    "This creates **a fork in history**.\n",
    "\n",
    "---\n",
    "\n",
    "✅ So with time travel you can:\n",
    "\n",
    "* Rewind execution (`get_state`)\n",
    "* Inspect past states (`get_state_history`)\n",
    "* Branch new workflows from earlier checkpoints (`invoke` with old checkpoint\\_id).\n",
    "\n",
    "---\n",
    "\n"
   ]
  }
 ],
 "metadata": {
  "kernelspec": {
   "display_name": "generative-ai-by-campusx",
   "language": "python",
   "name": "python3"
  },
  "language_info": {
   "codemirror_mode": {
    "name": "ipython",
    "version": 3
   },
   "file_extension": ".py",
   "mimetype": "text/x-python",
   "name": "python",
   "nbconvert_exporter": "python",
   "pygments_lexer": "ipython3",
   "version": "3.12.11"
  }
 },
 "nbformat": 4,
 "nbformat_minor": 5
}
