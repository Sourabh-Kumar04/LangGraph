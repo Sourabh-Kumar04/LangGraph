{
 "cells": [
  {
   "cell_type": "markdown",
   "id": "9d19bf89",
   "metadata": {},
   "source": [
    "## Fault Tolerance in LangGraph"
   ]
  },
  {
   "cell_type": "code",
   "execution_count": 9,
   "id": "4dfee379",
   "metadata": {},
   "outputs": [],
   "source": [
    "from langgraph.graph import StateGraph, START, END\n",
    "from langgraph.checkpoint.memory import InMemorySaver\n",
    "from typing import TypedDict\n",
    "import time"
   ]
  },
  {
   "cell_type": "code",
   "execution_count": 10,
   "metadata": {},
   "outputs": [],
   "source": [
    "# 1. Define the state\n",
    "class CrashState(TypedDict):\n",
    "\n",
    "    input: str\n",
    "    step1: str\n",
    "    step2: str\n",
    "    step3: str\n",
    "    "
   ]
  },
  {
   "cell_type": "code",
   "execution_count": 11,
   "id": "9c2a6f89",
   "metadata": {},
   "outputs": [],
   "source": [
    "# 2. Define steps\n",
    "def step_1(state: CrashState) -> CrashState:\n",
    "    print(\"Step 1 executed\")\n",
    "    return {\"step1\": \"done\", \"input\": state['input']}\n",
    "\n",
    "def step_2(state: CrashState) -> CrashState:\n",
    "    print(\"Step 2 hanging.... now manually interrupt from the notebook toolbar (STOP Button)\")\n",
    "    time.sleep(30)  # simulating long-running hang\n",
    "    return {\"step2\": \"done\"}\n",
    "\n",
    "def step_3(state: CrashState) -> CrashState:\n",
    "    print(\"Step 3 executed\")\n",
    "    return {\"step3\": \"done\"}"
   ]
  },
  {
   "cell_type": "code",
   "execution_count": 12,
   "metadata": {},
   "outputs": [],
   "source": [
    "# Build the graph\n",
    "builder = StateGraph(CrashState)\n",
    "\n",
    "builder.add_node(\"step_1\", step_1)\n",
    "builder.add_node(\"step_2\", step_2)\n",
    "builder.add_node(\"step_3\", step_3)\n",
    "\n",
    "builder.add_edge(START, \"step_1\")\n",
    "builder.add_edge(\"step_1\", \"step_2\")\n",
    "builder.add_edge(\"step_2\", \"step_3\")\n",
    "builder.add_edge(\"step_3\", END)\n",
    "\n",
    "checkpointer = InMemorySaver()\n",
    "graph = builder.compile(checkpointer=checkpointer)"
   ]
  },
  {
   "cell_type": "code",
   "execution_count": 13,
   "metadata": {},
   "outputs": [
    {
     "data": {
      "image/png": "[encoded data removed]",
      "text/plain": [
       "<langgraph.graph.state.CompiledStateGraph object at 0x7cdba619b0e0>"
      ]
     },
     "execution_count": 13,
     "metadata": {},
     "output_type": "execute_result"
    }
   ],
   "source": [
    "graph"
   ]
  },
  {
   "cell_type": "code",
   "execution_count": 14,
   "metadata": {},
   "outputs": [
    {
     "name": "stdout",
     "output_type": "stream",
     "text": [
      "Running graph: Please manulayy interrupt during Step 2...\n",
      "Step 1 executed\n",
      "Step 2 hanging.... now manually interrupt from the notebook toolbar (STOP Button)\n",
      "Kernel manually interrupted (crash simulation).\n"
     ]
    }
   ],
   "source": [
    "try: \n",
    "    print(\"Running graph: Please manulayy interrupt during Step 2...\")\n",
    "    graph.invoke({\"input\": \"start\"}, config={\"configurable\": {\"thread_id\": \"thread_1\"}})\n",
    "except KeyboardInterrupt:\n",
    "    print(\"Kernel manually interrupted (crash simulation).\")\n"
   ]
  },
  {
   "cell_type": "code",
   "execution_count": 15,
   "metadata": {},
   "outputs": [
    {
     "data": {
      "text/plain": [
       "StateSnapshot(values={'input': 'start', 'step1': 'done'}, next=('step_2',), config={'configurable': {'thread_id': 'thread_1', 'checkpoint_ns': '', 'checkpoint_id': '1f097daa-64e8-6d6b-8001-68e0e7f81d86'}}, metadata={'source': 'loop', 'step': 1, 'parents': {}}, created_at='2025-09-22T17:36:19.731575+00:00', parent_config={'configurable': {'thread_id': 'thread_1', 'checkpoint_ns': '', 'checkpoint_id': '1f097daa-64e5-67c7-8000-c0e8b86fd56a'}}, tasks=(PregelTask(id='b775aaaf-184b-cec1-2b3c-1d3e6413dcd7', name='step_2', path=('__pregel_pull', 'step_2'), error=None, interrupts=(), state=None, result=None),), interrupts=())"
      ]
     },
     "execution_count": 15,
     "metadata": {},
     "output_type": "execute_result"
    }
   ],
   "source": [
    "graph.get_state({\"configurable\": {\"thread_id\": \"thread_1\"}})"
   ]
  },
  {
   "cell_type": "code",
   "execution_count": 18,
   "metadata": {},
   "outputs": [
    {
     "name": "stdout",
     "output_type": "stream",
     "text": [
      "Step 0 state: StateSnapshot(values={'input': 'start', 'step1': 'done'}, next=('step_2',), config={'configurable': {'thread_id': 'thread_1', 'checkpoint_ns': '', 'checkpoint_id': '1f097daa-64e8-6d6b-8001-68e0e7f81d86'}}, metadata={'source': 'loop', 'step': 1, 'parents': {}}, created_at='2025-09-22T17:36:19.731575+00:00', parent_config={'configurable': {'thread_id': 'thread_1', 'checkpoint_ns': '', 'checkpoint_id': '1f097daa-64e5-67c7-8000-c0e8b86fd56a'}}, tasks=(PregelTask(id='b775aaaf-184b-cec1-2b3c-1d3e6413dcd7', name='step_2', path=('__pregel_pull', 'step_2'), error=None, interrupts=(), state=None, result=None),), interrupts=())\n",
      "Step 1 state: StateSnapshot(values={'input': 'start'}, next=('step_1',), config={'configurable': {'thread_id': 'thread_1', 'checkpoint_ns': '', 'checkpoint_id': '1f097daa-64e5-67c7-8000-c0e8b86fd56a'}}, metadata={'source': 'loop', 'step': 0, 'parents': {}}, created_at='2025-09-22T17:36:19.730187+00:00', parent_config={'configurable': {'thread_id': 'thread_1', 'checkpoint_ns': '', 'checkpoint_id': '1f097daa-64df-6238-bfff-3921cd5d7e48'}}, tasks=(PregelTask(id='5da92b41-6f36-eed4-39ae-73c97bd72d98', name='step_1', path=('__pregel_pull', 'step_1'), error=None, interrupts=(), state=None, result={'step1': 'done', 'input': 'start'}),), interrupts=())\n",
      "Step 2 state: StateSnapshot(values={}, next=('__start__',), config={'configurable': {'thread_id': 'thread_1', 'checkpoint_ns': '', 'checkpoint_id': '1f097daa-64df-6238-bfff-3921cd5d7e48'}}, metadata={'source': 'input', 'step': -1, 'parents': {}}, created_at='2025-09-22T17:36:19.727611+00:00', parent_config=None, tasks=(PregelTask(id='924bdd51-8026-b8fc-416b-6b1a3eee07c9', name='__start__', path=('__pregel_pull', '__start__'), error=None, interrupts=(), state=None, result={'input': 'start'}),), interrupts=())\n"
     ]
    }
   ],
   "source": [
    "state_history = graph.get_state_history({\"configurable\": {\"thread_id\": \"thread_1\"}})\n",
    "for i, state in enumerate(state_history):\n",
    "    print(f\"Step {i} state: {state}\")"
   ]
  },
  {
   "cell_type": "code",
   "execution_count": 22,
   "id": "3863d526",
   "metadata": {},
   "outputs": [
    {
     "name": "stdout",
     "output_type": "stream",
     "text": [
      "Step 2 hanging.... now manually interrupt from the notebook toolbar (STOP Button)\n",
      "Step 3 executed\n",
      "\n",
      "Final State: {'input': 'start', 'step1': 'done', 'step2': 'done', 'step3': 'done'}\n"
     ]
    }
   ],
   "source": [
    "# 6. Re-run to show fault-tolerant resume\n",
    "final_state = graph.invoke(None, {\"configurable\": {\"thread_id\": \"thread_1\"}})\n",
    "print(\"\\nFinal State:\", final_state)"
   ]
  },
  {
   "cell_type": "code",
   "execution_count": 23,
   "id": "7ebacecf",
   "metadata": {},
   "outputs": [
    {
     "data": {
      "text/plain": [
       "StateSnapshot(values={'input': 'start', 'step1': 'done', 'step2': 'done', 'step3': 'done'}, next=(), config={'configurable': {'thread_id': 'thread_1', 'checkpoint_ns': '', 'checkpoint_id': '1f097db6-3b3a-6284-8003-fe73239a95f5'}}, metadata={'source': 'loop', 'step': 3, 'parents': {}}, created_at='2025-09-22T17:41:37.483404+00:00', parent_config={'configurable': {'thread_id': 'thread_1', 'checkpoint_ns': '', 'checkpoint_id': '1f097db6-3b35-6896-8002-6e9e720ddc38'}}, tasks=(), interrupts=())"
      ]
     },
     "execution_count": 23,
     "metadata": {},
     "output_type": "execute_result"
    }
   ],
   "source": [
    "graph.get_state({\"configurable\": {\"thread_id\": \"thread_1\"}})"
   ]
  },
  {
   "cell_type": "code",
   "execution_count": 24,
   "id": "7ac19f22",
   "metadata": {},
   "outputs": [
    {
     "name": "stdout",
     "output_type": "stream",
     "text": [
      "Step 0 state: StateSnapshot(values={'input': 'start', 'step1': 'done', 'step2': 'done', 'step3': 'done'}, next=(), config={'configurable': {'thread_id': 'thread_1', 'checkpoint_ns': '', 'checkpoint_id': '1f097db6-3b3a-6284-8003-fe73239a95f5'}}, metadata={'source': 'loop', 'step': 3, 'parents': {}}, created_at='2025-09-22T17:41:37.483404+00:00', parent_config={'configurable': {'thread_id': 'thread_1', 'checkpoint_ns': '', 'checkpoint_id': '1f097db6-3b35-6896-8002-6e9e720ddc38'}}, tasks=(), interrupts=())\n",
      "Step 1 state: StateSnapshot(values={'input': 'start', 'step1': 'done', 'step2': 'done'}, next=('step_3',), config={'configurable': {'thread_id': 'thread_1', 'checkpoint_ns': '', 'checkpoint_id': '1f097db6-3b35-6896-8002-6e9e720ddc38'}}, metadata={'source': 'loop', 'step': 2, 'parents': {}}, created_at='2025-09-22T17:41:37.481501+00:00', parent_config={'configurable': {'thread_id': 'thread_1', 'checkpoint_ns': '', 'checkpoint_id': '1f097daa-64e8-6d6b-8001-68e0e7f81d86'}}, tasks=(PregelTask(id='d6e87e22-f236-8be5-958a-cf65563dba0e', name='step_3', path=('__pregel_pull', 'step_3'), error=None, interrupts=(), state=None, result={'step3': 'done'}),), interrupts=())\n",
      "Step 2 state: StateSnapshot(values={'input': 'start', 'step1': 'done'}, next=('step_2',), config={'configurable': {'thread_id': 'thread_1', 'checkpoint_ns': '', 'checkpoint_id': '1f097daa-64e8-6d6b-8001-68e0e7f81d86'}}, metadata={'source': 'loop', 'step': 1, 'parents': {}}, created_at='2025-09-22T17:36:19.731575+00:00', parent_config={'configurable': {'thread_id': 'thread_1', 'checkpoint_ns': '', 'checkpoint_id': '1f097daa-64e5-67c7-8000-c0e8b86fd56a'}}, tasks=(PregelTask(id='b775aaaf-184b-cec1-2b3c-1d3e6413dcd7', name='step_2', path=('__pregel_pull', 'step_2'), error=None, interrupts=(), state=None, result={'step2': 'done'}),), interrupts=())\n",
      "Step 3 state: StateSnapshot(values={'input': 'start'}, next=('step_1',), config={'configurable': {'thread_id': 'thread_1', 'checkpoint_ns': '', 'checkpoint_id': '1f097daa-64e5-67c7-8000-c0e8b86fd56a'}}, metadata={'source': 'loop', 'step': 0, 'parents': {}}, created_at='2025-09-22T17:36:19.730187+00:00', parent_config={'configurable': {'thread_id': 'thread_1', 'checkpoint_ns': '', 'checkpoint_id': '1f097daa-64df-6238-bfff-3921cd5d7e48'}}, tasks=(PregelTask(id='5da92b41-6f36-eed4-39ae-73c97bd72d98', name='step_1', path=('__pregel_pull', 'step_1'), error=None, interrupts=(), state=None, result={'step1': 'done', 'input': 'start'}),), interrupts=())\n",
      "Step 4 state: StateSnapshot(values={}, next=('__start__',), config={'configurable': {'thread_id': 'thread_1', 'checkpoint_ns': '', 'checkpoint_id': '1f097daa-64df-6238-bfff-3921cd5d7e48'}}, metadata={'source': 'input', 'step': -1, 'parents': {}}, created_at='2025-09-22T17:36:19.727611+00:00', parent_config=None, tasks=(PregelTask(id='924bdd51-8026-b8fc-416b-6b1a3eee07c9', name='__start__', path=('__pregel_pull', '__start__'), error=None, interrupts=(), state=None, result={'input': 'start'}),), interrupts=())\n"
     ]
    }
   ],
   "source": [
    "state_history = graph.get_state_history({\"configurable\": {\"thread_id\": \"thread_1\"}})\n",
    "for i, state in enumerate(state_history):\n",
    "    print(f\"Step {i} state: {state}\")"
   ]
  }
 ],
 "metadata": {
  "kernelspec": {
   "display_name": "generative-ai-by-campusx",
   "language": "python",
   "name": "python3"
  },
  "language_info": {
   "codemirror_mode": {
    "name": "ipython",
    "version": 3
   },
   "file_extension": ".py",
   "mimetype": "text/x-python",
   "name": "python",
   "nbconvert_exporter": "python",
   "pygments_lexer": "ipython3",
   "version": "3.12.11"
  }
 },
 "nbformat": 4,
 "nbformat_minor": 5
}
