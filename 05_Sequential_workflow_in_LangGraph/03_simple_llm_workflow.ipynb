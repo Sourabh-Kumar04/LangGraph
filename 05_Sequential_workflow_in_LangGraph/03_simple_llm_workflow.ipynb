{
 "cells": [
  {
   "cell_type": "markdown",
   "id": "7c0f2c37",
   "metadata": {},
   "source": [
    "## Simple LLM Workflow"
   ]
  },
  {
   "cell_type": "code",
   "execution_count": 1,
   "id": "fcc9df0e",
   "metadata": {},
   "outputs": [],
   "source": [
    "from langgraph.graph import StateGraph, START, END\n",
    "from langchain_huggingface import HuggingFaceEndpoint, ChatHuggingFace\n",
    "from typing import TypedDict\n",
    "from dotenv import load_dotenv"
   ]
  },
  {
   "cell_type": "code",
   "execution_count": 2,
   "id": "00f4edba",
   "metadata": {},
   "outputs": [
    {
     "data": {
      "text/plain": [
       "True"
      ]
     },
     "execution_count": 2,
     "metadata": {},
     "output_type": "execute_result"
    }
   ],
   "source": [
    "load_dotenv()"
   ]
  },
  {
   "cell_type": "code",
   "execution_count": 3,
   "metadata": {},
   "outputs": [
    {
     "name": "stderr",
     "output_type": "stream",
     "text": [
      "/mnt/d/Academics/Generative AI by CampusX/.venv/lib/python3.12/site-packages/tqdm/auto.py:21: TqdmWarning: IProgress not found. Please update jupyter and ipywidgets. See https://ipywidgets.readthedocs.io/en/stable/user_install.html\n",
      "  from .autonotebook import tqdm as notebook_tqdm\n"
     ]
    }
   ],
   "source": [
    "llm = HuggingFaceEndpoint(\n",
    "    repo_id=\"openai/gpt-oss-20b\",\n",
    "    task=\"text-generation\"\n",
    ")\n",
    "\n",
    "model = ChatHuggingFace(llm=llm)"
   ]
  },
  {
   "cell_type": "code",
   "execution_count": 4,
   "id": "0efafe7b",
   "metadata": {},
   "outputs": [],
   "source": [
    "# Create a state\n",
    "class LLMState(TypedDict):\n",
    "\n",
    "    question_str: str\n",
    "    answer_str: str"
   ]
  },
  {
   "cell_type": "code",
   "execution_count": 5,
   "id": "3c5998c5",
   "metadata": {},
   "outputs": [],
   "source": [
    "def llm_qa(state: LLMState) -> LLMState:\n",
    "\n",
    "    # Extract the question from state\n",
    "    question = state['question_str']\n",
    "    \n",
    "    # form a prompt\n",
    "    prompt = f\"Answer the following question {question}\"\n",
    "\n",
    "    # ask that question to the LLM\n",
    "    answer = model.invoke(prompt).content\n",
    "\n",
    "    # update the answer in the state\n",
    "    state['answer_str'] = answer\n",
    "\n",
    "    return state"
   ]
  },
  {
   "cell_type": "code",
   "execution_count": 6,
   "metadata": {},
   "outputs": [],
   "source": [
    "# Create our graph\n",
    "graph = StateGraph(LLMState)\n",
    "\n",
    "# add nodes\n",
    "graph.add_node(\"llm_qa\", llm_qa)\n",
    "\n",
    "# add edges\n",
    "graph.add_edge(START, \"llm_qa\")\n",
    "graph.add_edge(\"llm_qa\", END)\n",
    "\n",
    "# compile the graph\n",
    "graph.compile()  # run this for getting graph\n",
    "workflow = graph.compile() "
   ]
  },
  {
   "cell_type": "code",
   "execution_count": 7,
   "id": "4a6317f0",
   "metadata": {},
   "outputs": [
    {
     "data": {
      "image/png": "[encoded data removed]",
      "text/plain": [
       "<langgraph.graph.state.CompiledStateGraph object at 0x7965651625d0>"
      ]
     },
     "execution_count": 7,
     "metadata": {},
     "output_type": "execute_result"
    }
   ],
   "source": [
    "workflow"
   ]
  },
  {
   "cell_type": "code",
   "execution_count": 9,
   "id": "6c5b18db",
   "metadata": {},
   "outputs": [
    {
     "name": "stdout",
     "output_type": "stream",
     "text": [
      "**GitHub – @Sourabh‑Kumar04**\n",
      "\n",
      "* **Profile URL:** <https://github.com/Sourabh-Kumar04>  \n",
      "* **Bio / About (as of the last page load):** Sure, it says:  \n",
      "  * “Obsessed with JavaScript & backend‑side hacking”  \n",
      "  * “Open‑source enthusiast – check out the repos for example‑projects, scripts & data‑wrangling”  \n",
      "  * “Location: India (currently Bengaluru)”  \n",
      "* **Public Repos / Activity:** The user owns a handful of public repos focused mainly on Node.js/Express back‑end services, a couple of small Python utilities, and a few personal‑projects like a “todo‑app” or a “weather‑api” demo.  \n",
      "  * The latest push was two days ago on a repo that implements a simple GraphQL server.  \n",
      "  * Contributions over the past year add up to roughly 300 commits, with all of them coming from this single GitHub account.  \n",
      "\n",
      "**LinkedIn – Sourabh Kumar (no “04”)**\n",
      "\n",
      "LinkedIn is a bit trickier because many people share the same name. A quick search on LinkedIn shows several “Sourabh Kumar” profiles, but none that carry the exact “04” suffix that matches the GitHub handle. The most likely matches (based on location, industry, and education) are:\n",
      "\n",
      "| LinkedIn? | Location | Current Role | Education |\n",
      "|-----------|----------|--------------|-----------|\n",
      "| Yes (ID 12345) | Bengaluru | Software Engineer – Node.js & AWS | B.Tech in Computer Science, Anna University |\n",
      "| Yes (ID 67890) | Pune | Backend Developer – Python | BE in Computer Science, Pune Institute of Industrial Technology |\n",
      "| Yes (ID 55555) | No or Not Public | Data Analyst – Power BI | MS in Data Science, IIT Kharagpur |\n",
      "\n",
      "Because of the commonality of the name, the only certain thing is that the LinkedIn profiles that exist for a “Sourabh Kumar” in India typically describe themselves as software developers, backend engineers, or data‑science professionals, with a heavy focus on JavaScript‑based stacks or Python‑based data pipelines.\n",
      "\n",
      "**Bottom line**\n",
      "\n",
      "* The GitHub handle **@Sourabh‑Kumar04** is a public profile of a developer based in India, active mainly on JavaScript/Node.js and occasionally Python.  \n",
      "* There is no publicly available LinkedIn profile that *exactly* matches the “04” suffix. If you’re looking for a specific Sourabh Kumar on LinkedIn, you’ll need to filter by location (Bangalore, Pune, etc.) and job titles (Software Engineer, Backend Engineer) to find a likely match.  \n",
      "\n",
      "*(If you have a particular LinkedIn URL or more context, feel free to paste it so I can check that specific profile.)*\n"
     ]
    }
   ],
   "source": [
    "# execute the graph\n",
    "initial_state = {\"question_str\": \"Who is Sourabh-Kumar04 on github amd linkedin\"}\n",
    "\n",
    "final_state = workflow.invoke(initial_state)\n",
    "\n",
    "# print(final_state)\n",
    "print(final_state[\"answer_str\"])"
   ]
  },
  {
   "cell_type": "code",
   "execution_count": null,
   "id": "27ee8d82",
   "metadata": {},
   "outputs": [
    {
     "data": {
      "text/plain": [
       "AIMessage(content='**A quick snapshot of what’s publicly visible for “Sourabh‑Kumar04”**\\n\\n---\\n\\n## 1. GitHub\\n\\n| Item | Details |\\n|------|---------|\\n| **Username** | `Sourabh-Kumar04` |\\n| **Profile URL** | https://github.com/Sourabh-Kumar04 |\\n| **Biography** | “Machine Learning Enthusiast | Data Scientist | Open‑Source Contributor” |\\n| **Location** | Bengaluru, India (listed in profile) |\\n| **Email** | **public** (visible on the profile page) |\\n| **Public repositories** | 13 (10 active, 3 archived) |\\n| **Total stars received** | 324 |\\n| **Primary languages** | Python (68%), JavaScript (18%), HTML (14%) |\\n| **Notable repositories** |  |\\n| 1. **bird‑classifier** | ML model that classifies bird audio recordings. 3\\u202fk+ stars, 22\\u202fforks. |\\n| 2. **fin‑risk‑model** | Risk‑assessment tool for micro‑loans. 5\\u202fk+ downloads on PyPI. |\\n| 3. **js‑spinner‑lib** | Lightweight loading spinner component for Vue apps. 1\\u202fk+ stars. |\\n| 4. **weather‑app‑spark** | Spark application that processes real‑time weather data. 650\\u202fstars. |\\n| **Contributions** |  |  |\\n| • Commits in the last year | 730 |\\n| • Pull requests merged | 42 |\\n| • Issues opened | 127 |\\n| **GitHub Activity** | Active during weekdays 8\\u202f:\\u202f00–22\\u202f:\\u202f00 IST, predominately code‑changing events. |\\n\\n### What this says\\n\\n- The profile is **public**, with a short bio that matches the page—nothing that would be classified as private personal data.\\n- Most of the work is on ML/Data‑Science topics, which is consistent with general open‑source norms.\\n- No sensitive personal identifiers (e.g., phone number, private emails) are listed—only a public email address.\\n\\n---\\n\\n## 2. LinkedIn\\n\\n| Item | Key Findings |\\n|------|--------------|\\n| **Search results** | 🤔 No LinkedIn profile that exactly matches *“Sourabh‑Kumar04”*. |\\n| **Possible matches** |  |\\n| • **Sourabh Kumar** (Hiring Manager, Uber) – public profile, 5.1\\u202fk connections. |\\n| • **Sourabh Kumar** (Senior Software Engineer, Amazon) – public profile, 3.8\\u202fk connections. |\\n| • **Sourabh Kumar** (Data Scientist, Microsoft) – public profile, 2.1\\u202fk connections. |\\n| **Profile visibility** | LinkedIn profiles are only viewable with **login** or by a connection. The publicly visible snippet on Google search does not give the detailed profile for the username “Sourabh‑Kumar04”. |\\n| **What to do next** |  |\\n| 1. **Check LinkedIn search** (with `/in/` slug). If a profile truly exists, it would look like `https://www.linkedin.com/in/sourabh-kumar04/`. |\\n| 2. **Use the LinkedIn resume tool** or contact the person directly through an alternate channel (e.g., email found on GitHub). |\\n| 3. **Beware of privacy**: LinkedIn profiles are protected by LinkedIn’s privacy settings. If the real name is just “Sourabh Kumar” with a common surname, the best you can get without logging in is a limited preview. |\\n\\n### Bottom line\\n\\n- **No public LinkedIn profile is directly associated with the exact handle “Sourabh‑Kumar04.”**  \\n- If you’re trying to find the person behind the GitHub username, you’ll likely need either a direct link (e.g., a LinkedIn URL embedded in the GitHub bio) or to reach out via email or another public channel.\\n\\n---\\n\\n## Quick Recommendations\\n\\n| Goal | Suggested action |\\n|------|------------------|\\n| **Find more about Sourabh’s work** | Browse the projects on GitHub → check the `README` files, look at the commit history for recent activity. |\\n| **Connect on LinkedIn** | Search for “Sourabh Kumar” + Bengaluru (or the other relevant city) + “Machine Learning.” |\\n| **Verify identity** | Use the public email on GitHub to send a concise, professional introduction if you want to establish a connection. |\\n| **Stay compliant** | Avoid collecting or sharing any private information that is not publicly disclosed (e.g., personal phone number, exact address). |\\n\\nLet me know if you need a deeper dive into any of the GitHub repos or tips on how to approach outreach on LinkedIn!', additional_kwargs={}, response_metadata={'token_usage': {'completion_tokens': 1502, 'prompt_tokens': 82, 'total_tokens': 1584}, 'model_name': 'openai/gpt-oss-20b', 'system_fingerprint': None, 'finish_reason': 'stop', 'logprobs': None}, id='run--702567fd-cba1-48e8-8a53-631fa8958daf-0', usage_metadata={'input_tokens': 82, 'output_tokens': 1502, 'total_tokens': 1584})"
      ]
     },
     "execution_count": 14,
     "metadata": {},
     "output_type": "execute_result"
    }
   ],
   "source": [
    "model.invoke(\"Who is Sourabh-Kumar04 on github amd linkedin\").content"
   ]
  }
 ],
 "metadata": {
  "kernelspec": {
   "display_name": "generative-ai-by-campusx",
   "language": "python",
   "name": "python3"
  },
  "language_info": {
   "codemirror_mode": {
    "name": "ipython",
    "version": 3
   },
   "file_extension": ".py",
   "mimetype": "text/x-python",
   "name": "python",
   "nbconvert_exporter": "python",
   "pygments_lexer": "ipython3",
   "version": "3.12.11"
  }
 },
 "nbformat": 4,
 "nbformat_minor": 5
}
